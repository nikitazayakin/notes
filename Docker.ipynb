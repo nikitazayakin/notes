{
 "cells": [
  {
   "cell_type": "markdown",
   "metadata": {},
   "source": [
    "\n",
    "- [Get Started, Part 1: Orientation and setup](https://docs.docker.com/get-started/)\n",
    "    - *Docker concepts*\n",
    "        - Docker is a platform for developers and sysadmins to *develop, deploy, and run* applications with containers.\n",
    "        - The use of Linux containers to deploy applications is called containerization\n",
    "        - Containers are not new, but their use for easily deploying applications is.\n",
    "        "
   ]
  }
 ],
 "metadata": {
  "kernelspec": {
   "display_name": "Python 3",
   "language": "python",
   "name": "python3"
  },
  "language_info": {
   "codemirror_mode": {
    "name": "ipython",
    "version": 3
   },
   "file_extension": ".py",
   "mimetype": "text/x-python",
   "name": "python",
   "nbconvert_exporter": "python",
   "pygments_lexer": "ipython3",
   "version": "3.6.4"
  }
 },
 "nbformat": 4,
 "nbformat_minor": 2
}
