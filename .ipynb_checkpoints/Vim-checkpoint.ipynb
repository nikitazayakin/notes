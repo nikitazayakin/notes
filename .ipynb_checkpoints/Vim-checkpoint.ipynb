{
 "cells": [
  {
   "cell_type": "markdown",
   "metadata": {},
   "source": [
    "- [vim copy paste](https://www.google.ru/search?q=vim+copy+paste&oq=vim+copy+paste&aqs=chrome..69i57.3153j0j7&sourceid=chrome&ie=UTF-8)\n",
    "- http://vim.wikia.com/wiki/Jump_to_a_line_number"
   ]
  },
  {
   "cell_type": "markdown",
   "metadata": {},
   "source": [
    "- How to delete all lines of file in Vim – Code Yarns\n",
    "    - Solution\n",
    "        - Type gg to move the cursor to the first line of the file, if it is not already there.\n",
    "        - Type dG to delete all the lines.\n"
   ]
  },
  {
   "cell_type": "markdown",
   "metadata": {},
   "source": [
    "- *find in current line?* - f + start typing what to find"
   ]
  },
  {
   "cell_type": "markdown",
   "metadata": {},
   "source": [
    "- https://stackoverflow.com/questions/22142755/what-is-the-meaning-of-a-cr-at-the-end-of-some-vim-mappings\n",
    "    - dasfdsaf"
   ]
  }
 ],
 "metadata": {
  "kernelspec": {
   "display_name": "Python 3",
   "language": "python",
   "name": "python3"
  },
  "language_info": {
   "codemirror_mode": {
    "name": "ipython",
    "version": 3
   },
   "file_extension": ".py",
   "mimetype": "text/x-python",
   "name": "python",
   "nbconvert_exporter": "python",
   "pygments_lexer": "ipython3",
   "version": "3.6.4"
  }
 },
 "nbformat": 4,
 "nbformat_minor": 2
}
