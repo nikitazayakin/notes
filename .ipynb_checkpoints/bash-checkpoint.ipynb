{
 "cells": [
  {
   "cell_type": "markdown",
   "metadata": {},
   "source": [
    "- [google: bash for loop](https://www.google.ru/search?q=git+rename+local+branch&oq=git+rename+local+branch&aqs=chrome..69i57j69i64.7542j0j7&sourceid=chrome&ie=UTF-8)\n",
    "- [google: bash increment big number](https://www.google.ru/search?q=bash+increment+big+number&oq=bash+increment+big+number&aqs=chrome..69i57.4895j0j7&sourceid=chrome&ie=UTF-8)"
   ]
  },
  {
   "cell_type": "markdown",
   "metadata": {},
   "source": [
    "# Interesting\n",
    "\n",
    "[Bash weather](http://www.google.ru/search?q=bash+weather&oq=bash+weather&aqs=chrome..69i57.6943j0j7&sourceid=chrome&ie=UTF-8)"
   ]
  },
  {
   "cell_type": "markdown",
   "metadata": {},
   "source": [
    "# history\n",
    "- history length\n",
    "    - https://stackoverflow.com/questions/9457233/unlimited-bash-history\n",
    "    - https://sanctum.geek.nz/arabesque/better-bash-history/\n",
    "        - research https://www.google.ru/search?q=bash+history+config&oq=bash+history+config&aqs=chrome..69i57.7187j0j7&sourceid=chrome&ie=UTF-8\n",
    "\n",
    "# source\n",
    "- [Bash script - How to reference a file for variables](https://stackoverflow.com/questions/5228345/bash-script-how-to-reference-a-file-for-variables)\n"
   ]
  },
  {
   "cell_type": "markdown",
   "metadata": {},
   "source": [
    "# scritp parameters\n",
    "\n",
    "- [script flags](https://www.google.ru/search?num=100&newwindow=1&safe=off&ei=rELGWuaRCOf06ASg0JbIAg&q=linux+script+bash+parameters+using+flags&oq=linux+script+bash+parameters+using+flags&gs_l=psy-ab.3..33i160k1.39303.46756.0.47124.25.25.0.0.0.0.139.1721.24j1.25.0....0...1c.1.64.psy-ab..0.24.1645...0i7i30k1j0i13k1j0i8i7i30k1j35i39k1j0i30k1j0i8i30k1j0i22i30k1j33i22i29i30k1j33i21k1.0.1Yw4naSu7Nc)\n",
    "    - https://stackoverflow.com/questions/7069682/how-to-get-arguments-with-flags-in-bash-script\n",
    "- [script parameters](https://www.google.ru/search?q=linux+bash+parameters&oq=linux+bash+parameters&aqs=chrome..69i57.10623j0j7&sourceid=chrome&ie=UTF-8)\n",
    "    - https://www.lifewire.com/pass-arguments-to-bash-script-2200571\n",
    "    - https://stackoverflow.com/questions/16483119/an-example-of-how-to-use-getopts-in-bash\n",
    "\n",
    "# variable parameter substitution\n",
    "- [Using “${a:-b}” for variable assignment in scripts](https://unix.stackexchange.com/questions/122845/using-a-b-for-variable-assignment-in-scripts)\n"
   ]
  },
  {
   "cell_type": "markdown",
   "metadata": {},
   "source": [
    "# ssh remote command\n",
    "- [Run / Execute Command Using SSH](https://www.cyberciti.biz/faq/unix-linux-execute-command-using-ssh/)\n",
    "- ssh run remote commands https://www.garron.me/en/go2linux/ssh-sudo-run-commands-remote-server.html\n",
    "    - [goog](https://www.google.ru/search?q=linux+save+history+at+the+end+of+terminal&oq=linux+save+history+at+the+end+of+terminal&aqs=chrome..69i57.6770j0j7&sourceid=chrome&ie=UTF-8)\n",
    "- how single and double quotes vary in ssh command https://serverfault.com/questions/368327/difference-between-single-quotes-and-double-quotes-when-passing-command-through\n",
    "    - [goog](https://www.google.ru/search?q=ssh+remote+command+single+double+quote&oq=ssh+remote+command+single+double+quote&aqs=chrome..69i57.11423j0j7&sourceid=chrome&ie=UTF-8)"
   ]
  },
  {
   "cell_type": "markdown",
   "metadata": {},
   "source": [
    "# find\n",
    "- [Find command: how to ignore case?](https://unix.stackexchange.com/questions/32155/find-command-how-to-ignore-case)\n",
    "    - [googl](https://www.google.ru/search?q=bash+find+case+insensitive&oq=bash+find+case+insensitive&aqs=chrome..69i57.12098j0j7&sourceid=chrome&ie=UTF-8)\n",
    "    "
   ]
  },
  {
   "cell_type": "markdown",
   "metadata": {},
   "source": [
    "\n",
    "- [how to run script as another user without password](https://stackoverflow.com/questions/6905697/how-to-run-script-as-another-user-without-password)\n",
    "\n",
    "Call visudo and add this:\n",
    "\n",
    "user1 ALL=(user2) NOPASSWD: /home/user2/bin/test.sh\n",
    "The command paths must be absolute! Then call sudo -u user2 /home/user2/bin/test.sh from a user1 shell. Done.\n",
    "\n",
    "- [Tar a directory, but don't store full absolute paths in the archive\n",
    "](https://stackoverflow.com/questions/18681595/tar-a-directory-but-dont-store-full-absolute-paths-in-the-archive)\n",
    "tar -cjf site1.tar.bz2 -C /var/www/site1 .\n",
    "In the above example, tar will change to directory /var/www/site1 before doing its thing because the option -C /var/www/site1 was given.\n",
    "\n",
    "From man tar:\n",
    "\n",
    "OTHER OPTIONS\n",
    "\n",
    "  -C, --directory DIR\n",
    "       change to directory DIR\n",
    "\n",
    "- [redirect error to null](https://www.google.ru/search?q=linux+bash+redirect+error+to+null&oq=linux+bash+redirect+error+to+null&aqs=chrome..69i57.7319j0j7&sourceid=chrome&ie=UTF-8)"
   ]
  },
  {
   "cell_type": "markdown",
   "metadata": {},
   "source": [
    "- Параметр по умолчанию: [How to write a bash script that takes optional input arguments?\n",
    "](https://stackoverflow.com/questions/9332802/how-to-write-a-bash-script-that-takes-optional-input-arguments)"
   ]
  },
  {
   "cell_type": "markdown",
   "metadata": {},
   "source": [
    "# tar\n",
    "- [tar list contents](https://www.google.ru/search?q=list+tar+contents&oq=list+tar+contents&aqs=chrome..69i57j69i60.4195j0j7&sourceid=chrome&ie=UTF-8)"
   ]
  },
  {
   "cell_type": "markdown",
   "metadata": {},
   "source": [
    "# terminal\n",
    "- [GOOGLE ubuntu terminal ctrl r(https://www.google.ru/search?q=ubuntu+terminal+ztrl+r&oq=ubuntu+terminal+ztrl+r&aqs=chrome..69i57.3867j0j7&sourceid=chrome&ie=UTF-8)\n",
    "    - [Ctrl+R to search and other terminal history tricks](https://lifehacker.com/278888/ctrl%252Br-to-search-and-other-terminal-history-tricks)"
   ]
  },
  {
   "cell_type": "markdown",
   "metadata": {},
   "source": [
    "# text processing\n",
    "- [bash echo number of lines of file given in a bash variable without the file name\n",
    "](https://stackoverflow.com/questions/12022319/bash-echo-number-of-lines-of-file-given-in-a-bash-variable-without-the-file-name)\n",
    "    - Explanation: Use Pipes or Redirection to Avoid Filenames in Output\n",
    "        The wc utility will not print the name of the file in its output if input is taken from a pipe or redirection operator. Consider these various examples:\n",
    "\n",
    "        # wc shows filename when the file is an argument\n",
    "        $ wc -l /etc/passwd\n",
    "        41 /etc/passwd\n",
    "\n",
    "        # filename is ignored when piped in on standard input\n",
    "        $ cat /etc/passwd | wc -l\n",
    "        41\n",
    "\n",
    "        # unusual redirection, but wc still ignores the filename\n",
    "        $ < /etc/passwd wc -l\n",
    "        41\n",
    "\n",
    "        # typical redirection, taking standard input from a file\n",
    "        $ wc -l < /etc/passwd\n",
    "        41\n",
    "        As you can see, the only time wc will print the filename is when its passed as an argument, rather than as data on standard input. In some cases, you may want the filename to be printed, so it's useful to understand when it will be displayed.\n",
    "- https://www.howtogeek.com/199687/how-to-quickly-create-a-text-file-using-the-command-line-in-linux/\n",
    "- https://stackoverflow.com/questions/20275072/read-first-x-lines-of-csv-into-new-outfile?answertab=votes#tab-top\n",
    "- https://unix.stackexchange.com/questions/138398/how-to-get-lines-10-to-100-from-a-200-line-file-into-a-new-file\n",
    "- https://stackoverflow.com/questions/19657683/convert-a-text-string-in-bash-to-array\n",
    "- Sed\n",
    "    - https://unix.stackexchange.com/questions/153331/using-sed-with-herestring-and-read-a/153335#153335\n",
    "- Cut\n",
    "    - dsafdasfasfdasfasdfas"
   ]
  },
  {
   "cell_type": "markdown",
   "metadata": {},
   "source": [
    "# bash loops if statements\n",
    "- http://tldp.org/HOWTO/Bash-Prog-Intro-HOWTO-7.html\n",
    "- if usage http://tldp.org/LDP/Bash-Beginners-Guide/html/sect_07_02.html\n",
    "        "
   ]
  },
  {
   "cell_type": "markdown",
   "metadata": {},
   "source": [
    "# array\n",
    "- https://serverfault.com/questions/477503/check-if-array-is-empty-in-bash\n",
    "- https://www.cyberciti.biz/faq/finding-bash-shell-array-length-elements/\n",
    "- http://tldp.org/LDP/abs/html/complexfunct.html\n"
   ]
  },
  {
   "cell_type": "markdown",
   "metadata": {},
   "source": [
    "# man\n",
    "- https://unix.stackexchange.com/questions/256205/list-available-man-page-sections-for-an-application\n"
   ]
  }
 ],
 "metadata": {
  "kernelspec": {
   "display_name": "Python 3",
   "language": "python",
   "name": "python3"
  },
  "language_info": {
   "codemirror_mode": {
    "name": "ipython",
    "version": 3
   },
   "file_extension": ".py",
   "mimetype": "text/x-python",
   "name": "python",
   "nbconvert_exporter": "python",
   "pygments_lexer": "ipython3",
   "version": "3.6.4"
  }
 },
 "nbformat": 4,
 "nbformat_minor": 2
}
