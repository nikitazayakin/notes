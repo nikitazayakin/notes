{
 "cells": [
  {
   "cell_type": "markdown",
   "metadata": {},
   "source": [
    "# to read\n",
    "- https://www.google.ru/search?num=100&newwindow=1&safe=off&ei=NFXGWpa0BMOpsgGCxqq4Cg&q=git+rm&oq=git+rm&gs_l=psy-ab.3..0i203k1l7j0j0i203k1l2.22155.22261.0.22489.2.2.0.0.0.0.73.135.2.2.0....0...1c.1.64.psy-ab..0.2.132...0i67k1.0.dBvp73SwHrk\n",
    "- [revert git rm -r .](https://stackoverflow.com/questions/2125710/how-to-revert-a-git-rm-r)\n",
    "- [undo single file git rm](https://gist.github.com/laszlomiklosik/3833968)\n",
    "- [git rm](https://git-scm.com/docs/git-rm)\n",
    "- [google git remove file from staging](https://www.google.ru/search?q=git+remove+file+from+staging&oq=git+remove+file+from+staging&aqs=chrome..69i57j69i64.7752j0j7&sourceid=chrome&ie=UTF-8)\n",
    "- [git rename local branch](https://www.google.ru/search?q=git+rename+local+branch&oq=git+rename+local+branch&aqs=chrome..69i57j69i64.7542j0j7&sourceid=chrome&ie=UTF-8)\n",
    "- https://stackoverflow.com/questions/2223308/how-to-remove-a-file-from-the-index-in-git"
   ]
  },
  {
   "cell_type": "markdown",
   "metadata": {},
   "source": [
    "# вопросы\n",
    "- часть файлов создано новых, часть удалено, часть перемещено: как в такой ситуации сделать быстрый коммит?"
   ]
  },
  {
   "cell_type": "markdown",
   "metadata": {},
   "source": [
    "- combine last n commits https://stackoverflow.com/questions/5189560/squash-my-last-x-commits-together-using-git"
   ]
  },
  {
   "cell_type": "markdown",
   "metadata": {},
   "source": [
    "- https://www.git-tower.com/learn/git/faq/undo-last-commit #undocommit #revert"
   ]
  },
  {
   "cell_type": "markdown",
   "metadata": {},
   "source": [
    "- https://stackoverflow.com/questions/2223308/how-to-remove-a-file-from-the-index-in-git\n",
    "- "
   ]
  },
  {
   "cell_type": "markdown",
   "metadata": {},
   "source": [
    "# more\n",
    "- [google: git vs mercurial](https://www.google.ru/search?num=100&newwindow=1&safe=off&ei=SkTsWrj6HMqrsgHH67WoBA&q=git+vs+mercurial+habrahabr&oq=git+vs+mercurial+habrahabr&gs_l=psy-ab.3..0i22i30k1.2098.4137.0.4256.10.3.0.7.7.0.77.215.3.3.0....0...1c.1.64.psy-ab..0.10.240...0j0i203k1j33i22i29i30k1.0.VZqhWNBJOBk)"
   ]
  }
 ],
 "metadata": {
  "kernelspec": {
   "display_name": "Python 3",
   "language": "python",
   "name": "python3"
  },
  "language_info": {
   "codemirror_mode": {
    "name": "ipython",
    "version": 3
   },
   "file_extension": ".py",
   "mimetype": "text/x-python",
   "name": "python",
   "nbconvert_exporter": "python",
   "pygments_lexer": "ipython3",
   "version": "3.6.4"
  }
 },
 "nbformat": 4,
 "nbformat_minor": 2
}
