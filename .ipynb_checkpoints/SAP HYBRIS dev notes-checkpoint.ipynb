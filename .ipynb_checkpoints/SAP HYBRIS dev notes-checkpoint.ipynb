{
 "cells": [
  {
   "cell_type": "markdown",
   "metadata": {},
   "source": [
    "HC Accelerator Documentation\n",
    "- [B2C/B2B Accelerator Implementation Guide](https://wiki.hybris.com/pages/viewpage.action?pageId=289440891)\n",
    "- [Release 5 Trails](https://wiki.hybris.com/display/R5T/Release+5+Trails)\n",
    "\n",
    "- []()   "
   ]
  },
  {
   "cell_type": "markdown",
   "metadata": {},
   "source": [
    "# Upgrade 6.6 to 6.7\n",
    "- [upgrade hybris commerce](https://help.hybris.com/6.7.0/hcd/8be8ff7d866910149618f66c130dab3d.html)\n",
    "    - [upgrade core](https://help.hybris.com/6.7.0/hcd/71ce7fccfb3242c09690e8000e6e681f.html#loio960dea6985154db48f53f2fc0f4e11f3)\n",
    "\n",
    "- [google .classpath file](https://www.google.ru/search?q=.classpath+file&oq=.classpath+file&aqs=chrome..69i57.6018j0j7&sourceid=chrome&ie=UTF-8)\n",
    "    - [google org.eclipse.jdt.USER_LIBRARY/ngdbc](https://www.google.ru/search?q=org.eclipse.jdt.USER_LIBRARY%2Fngdbc&oq=org.eclipse.jdt.USER_LIBRARY%2Fngdbc&aqs=chrome..69i57j69i58.355j0j7&sourceid=chrome&ie=UTF-8)\n",
    "- \n"
   ]
  }
 ],
 "metadata": {
  "kernelspec": {
   "display_name": "Python 3",
   "language": "python",
   "name": "python3"
  },
  "language_info": {
   "codemirror_mode": {
    "name": "ipython",
    "version": 3
   },
   "file_extension": ".py",
   "mimetype": "text/x-python",
   "name": "python",
   "nbconvert_exporter": "python",
   "pygments_lexer": "ipython3",
   "version": "3.6.4"
  }
 },
 "nbformat": 4,
 "nbformat_minor": 2
}
