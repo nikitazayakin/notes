{
 "cells": [
  {
   "cell_type": "markdown",
   "metadata": {},
   "source": [
    "# Macports or Homebrew\n",
    "- https://www.reddit.com/r/osx/comments/43q9ww/macports_vs_homebrew/\n",
    "- https://yandex.ru/search/?text=mac%20ports%20or%20homebrew&clid=1955453&win=318&lr=213\n",
    "\n",
    "macports\n",
    "    - uses native(?)\n",
    "homebrew\n",
    "    - installs nothing \n",
    "\n",
    "i chose macports, because:\n",
    "\n"
   ]
  },
  {
   "cell_type": "markdown",
   "metadata": {},
   "source": [
    "# Installing jupiter\n",
    "\n",
    "- [install python](https://yandex.ru/search/?text=install%20python%20mac%20os&clid=1955453&win=318&lr=213)"
   ]
  },
  {
   "cell_type": "markdown",
   "metadata": {},
   "source": [
    "# Shortcuts\n",
    "\n",
    "\n",
    "- [yandex browser](https://yandex.com/support/browser-classic/useful-features/hotkeys.xml)\n",
    "- [intelliJ IDEA](https://resources.jetbrains.com/storage/products/intellij-idea/docs/IntelliJIDEA_ReferenceCard.pdf)"
   ]
  }
 ],
 "metadata": {
  "kernelspec": {
   "display_name": "Python 3",
   "language": "python",
   "name": "python3"
  },
  "language_info": {
   "codemirror_mode": {
    "name": "ipython",
    "version": 3
   },
   "file_extension": ".py",
   "mimetype": "text/x-python",
   "name": "python",
   "nbconvert_exporter": "python",
   "pygments_lexer": "ipython3",
   "version": "3.6.5"
  }
 },
 "nbformat": 4,
 "nbformat_minor": 2
}
