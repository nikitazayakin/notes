{
 "cells": [
  {
   "cell_type": "markdown",
   "metadata": {},
   "source": [
    "# how to reduce stress\n",
    "- https://www.youtube.com/watch?v=3I7qR4NO8Ag\n",
    "- https://www.youtube.com/watch?v=hnpQrMqDoqE\n",
    "- https://www.youtube.com/watch?v=0fL-pn80s-c\n"
   ]
  },
  {
   "cell_type": "raw",
   "metadata": {},
   "source": [
    "- we are overwhelmed by stress in our world by boss, clients, kids, emails, phones,\n",
    "- how do we get piece how do relief all these stuff \n",
    "- good to have some techniques to relief stress \n",
    "- get better understanding of how do we get stress, to be in controll of it\n",
    "    - stress comes from ourselves, not from the outer world, even that it seems opposite.\n",
    "    - all the stress, no matter how bad is it, it is all self created\n",
    "        - this is actually a deep point\n",
    "        - advanced sef development point\n",
    "            - reactions to circumstances create our feelings, not circumstances\n",
    "            - ancient stoics, greeks romans, eastern phylosophers, modern self help gurus\n",
    "            - take responsibility, take ordership, of what you are feeling in your life, of your own thoughts\n",
    "            - commit to taking full responsibility for it , not blaming anything outside yourself. And you start to become more consious, more aware throughout our day of really what is going on. What are you thinking, what are you feeling. Why is this happening? It dawns on you, that you are creating all of it. Your ego is creating all of it. The struggle you are facing in your life is created by a need of a pull on yourself image. To leave up to your ego. And this is entirely avoidable if you go throug a personal development work. \n",
    "            - [habbits](https://actualized.org/blueprint)\n",
    "            - don't feel guilt or don't be judged \n",
    "            - just the fact that you are creating it or allowing it\n",
    "                - this is a big shift made to your mindset\n",
    "                - backing out of them or tinkering with them to make them better \n",
    "                - good or bad only exists in your mind\n",
    "            - the root of this - to recognise a cause, then you are going to start to see opportunities\n",
    "            - start to realize how are you making your own stresses\n",
    "    - how to reduce and relief stress\n",
    "        - good and bad ways\n",
    "            - healthy way - enpower, enrich you and put you in stronger position that you were before\n",
    "                - exercise, physical activity -> strenth training, cardio, moving your body, release chemicals in brain, that make you feel better and relax\n",
    "                    - after school, we are out of sport. So this is one way to come back to sports area.\n",
    "                    - sports\n",
    "                    - going to the gym\n",
    "                    - bicycle\n",
    "                    - taking a hike\n",
    "                - reading a book, smth of high quality\n",
    "                - meditation, yoga\n",
    "                    - long term benefits\n",
    "                    - build that habit\n",
    "                - listening the music -> unwind, slower your mind down\n",
    "                - family time -> quiet time with your family, that can be really rewarding, that can increase your happines, relief your stress\n",
    "                    - dinner table\n",
    "                    - board game\n",
    "                    - having conversation\n",
    "                    - going for a family walk\n",
    "                    - going to cinema, baseball game, etc. some sort of family activity, so that you are not bothered by the stuff\n",
    "                - creative hobby, at least one, that you like to engage in, that you are building skill in\n",
    "                    - piano\n",
    "                    - arts and crafts\n",
    "                    - writing project your are going to work on\n",
    "                    - car, to work on -> you are mecanical tinker person, wanna get you hands dirty\n",
    "            - disempowering way, a crutch that is may be relieving stress in a short term, but it's actually robbing your life and your potential and your energy in a long run, and maybe it's creating a more stress down the road on a long term basis. Guilt, procrastination, laziness, lack of productivity. All of that is being bult up over days and weeks and years. And leads to lower quality life for you. That is destroying you, creating more and more stress. These habits prevents you from linving rich life, that you are capable of living.\n",
    "                - gambling -> online, offline\n",
    "                - shopping -> compulsive, short run\n",
    "                = smoking, drinking, drugs, any chemical addictions -> destroy your body\n",
    "                - video games -> low consiousness way to relief stress\n",
    "                - internet browsing, television -> watching news, reading news addiction can be bad habbit, being plugged in to gossip, and that stuff\n",
    "                - overeating\n",
    "                - eating, drinking too much sugar????"
   ]
  },
  {
   "cell_type": "markdown",
   "metadata": {},
   "source": [
    "- Stress in a very short term is a survival mechanism. Your heart pumps pressure, glucose injection, you became focused. You decide to fight or flight.\n",
    "        - take three deep breaths, that really helps\n",
    "        - make exercise\n",
    "        - get in control, scope out the situation and how you are going to tackle it (plan actions)\n",
    "        - talk to someone, don't stress alone, socialize, and laugh\n",
    "        - get down with nature on a big or small scale\n",
    "- in 21st century we recieve many small stress and for much much longer. \n",
    "    - you brain and body stay allerted\n",
    "    - and you will be less able to think clearly, learn or remember things\n",
    "    "
   ]
  },
  {
   "cell_type": "markdown",
   "metadata": {},
   "source": [
    "- tips to feel yourself calmer inside\n",
    "    - stay in to recuperate\n",
    "    - making repetitive task, allows you brain to pare down and focus. A cure for a worried, scattered mind\n",
    "    - progressive muscle relaxation, just before bed\n",
    "    - get out for GoodVibes (yoga, meditation)\n",
    "    - exercise lessens anxiety"
   ]
  },
  {
   "cell_type": "markdown",
   "metadata": {},
   "source": [
    "- [10 вещей мешающие мозгу](https://www.youtube.com/watch?v=p25_k4KRs8I)\n",
    "- А успешные люди - получают новые знания, с их помощью работают над привычками.\n",
    "    - однообразие и монотонность не развивают мозг, однако успокаивают и фокусируют разфокусированный.\n",
    "    - вера в чужой опыт, принимать информацию без практического подтверждения. Это делает мозг зашоренным. Так что действуй сам и побольше\n",
    "    - переедание и тяжелая еда. Мозг тратит до 25% энергии. Переваривание еды, тоже требует затрат. Одновременно хорошо эти два процесса проходить не могут/\n",
    "    - таская лишние килограммы ты тратишь больше энергии, а значит мозг ее недополучает.\n",
    "    - недосыпание (выспаться - встать без будильника)\n",
    "    - нелюбимая работа\n",
    "    - алкоголь и вредные привычки (уменьшают жизненную энергию)\n",
    "    - стимуляторы, типа кофе. Вызывают привыкание, тело перестает выделять собственные гормоны.\n",
    "    - многозадачность - лишняя энергия, мозг быстрее устает. Перефокусировка повышает уровень гормона кортизол. Начинаешь испытывать стресс\n",
    "    - соль, сахар, упакованные продукты с добавками, фаст фуд, жаренная пища, искуственные подсластители, транс-жиры"
   ]
  }
 ],
 "metadata": {
  "kernelspec": {
   "display_name": "Python 3",
   "language": "python",
   "name": "python3"
  },
  "language_info": {
   "codemirror_mode": {
    "name": "ipython",
    "version": 3
   },
   "file_extension": ".py",
   "mimetype": "text/x-python",
   "name": "python",
   "nbconvert_exporter": "python",
   "pygments_lexer": "ipython3",
   "version": "3.6.5"
  }
 },
 "nbformat": 4,
 "nbformat_minor": 2
}
