{
 "cells": [
  {
   "cell_type": "markdown",
   "metadata": {},
   "source": [
    "# Taking notes Как делать заметки\n",
    "\n",
    "- https://habrahabr.ru/post/346876/%3A%2F%2Fzen.yandex.com\n",
    "\n",
    "синтаксический анализатор\n",
    "\n",
    "#заметки #конспекты #notes"
   ]
  },
  {
   "cell_type": "markdown",
   "metadata": {},
   "source": [
    "# Синтаксис заметок\n",
    "- https://sourceforge.net/p/jupiter/wiki/markdown_syntax/\n",
    "- https://yandex.ru/search/?text=jupiter%20markdown&clid=1955453&win=318&lr=101764"
   ]
  },
  {
   "cell_type": "markdown",
   "metadata": {},
   "source": [
    "# Jypiter\n",
    "- https://jupyter.readthedocs.io/en/latest/running.html#running"
   ]
  },
  {
   "cell_type": "markdown",
   "metadata": {},
   "source": [
    "# про трусы\n",
    "- https://www.youtube.com/watch?v=-IneEHgzXXE\n",
    "поющие трусы это группа девушек"
   ]
  }
 ],
 "metadata": {
  "kernelspec": {
   "display_name": "Python 3",
   "language": "python",
   "name": "python3"
  },
  "language_info": {
   "codemirror_mode": {
    "name": "ipython",
    "version": 3
   },
   "file_extension": ".py",
   "mimetype": "text/x-python",
   "name": "python",
   "nbconvert_exporter": "python",
   "pygments_lexer": "ipython3",
   "version": "3.6.5"
  }
 },
 "nbformat": 4,
 "nbformat_minor": 2
}
