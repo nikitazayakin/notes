{
 "cells": [
  {
   "cell_type": "markdown",
   "metadata": {},
   "source": [
    "# ошибка деплоймент кода (персистенс)\n",
    "\n",
    "ERROR [localhost-startStop-7] [YNamespace] \n",
    "*******************************************\n",
    "Duplicate deployment code 27001 in de.hybris.platform.persistence.gjcore_ExternalSystem::((gjcore))::YDeployment and de.hybris.platform.persistence.gjcore_ColorSystem::((gjcore))::YDeployment.\n",
    "Deployment de.hybris.platform.persistence.gjcore_ExternalSystem::((gjcore))::YDeployment will not be loaded.\n",
    "Please adjust the typecode of de.hybris.platform.persistence.gjcore_ExternalSystem::((gjcore))::YDeployment at items.xml/advanced-deployments.xml to a typecode not used by system\n",
    "(Use Maintenance/Deployment page at the hybris administration console (hac) for getting a list of all used typecodes).\n",
    "*******************************************\n",
    "\n",
    "ERROR [localhost-startStop-7] [YNamespace] \n",
    "*******************************************\n",
    "Duplicate deployment code 27002 in de.hybris.platform.persistence.gjcore_ExternalSystemColorMapping::((gjcore))::YDeployment and de.hybris.platform.persistence.gjcore_ExternalSystemColor::((gjcore))::YDeployment[gjcore-items.xml:127(ItemTypeTagListener)].\n",
    "Deployment de.hybris.platform.persistence.gjcore_ExternalSystemColorMapping::((gjcore))::YDeployment will not be loaded.\n",
    "Please adjust the typecode of de.hybris.platform.persistence.gjcore_ExternalSystemColorMapping::((gjcore))::YDeployment at items.xml/advanced-deployments.xml to a typecode not used by system\n",
    "(Use Maintenance/Deployment page at the hybris administration console (hac) for getting a list of all used typecodes).\n",
    "*******************************************\n",
    "\n",
    "- разбор ошибки: повторяется деплоймент код чего? за что он отвечает?\n"
   ]
  }
 ],
 "metadata": {
  "kernelspec": {
   "display_name": "Python 3",
   "language": "python",
   "name": "python3"
  },
  "language_info": {
   "codemirror_mode": {
    "name": "ipython",
    "version": 3
   },
   "file_extension": ".py",
   "mimetype": "text/x-python",
   "name": "python",
   "nbconvert_exporter": "python",
   "pygments_lexer": "ipython3",
   "version": "3.6.4"
  }
 },
 "nbformat": 4,
 "nbformat_minor": 2
}
