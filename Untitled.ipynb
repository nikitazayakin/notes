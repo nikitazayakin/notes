{
 "cells": [
  {
   "cell_type": "markdown",
   "metadata": {},
   "source": [
    "#\n",
    "\n",
    "- Debian en7 was - new env is unknown\n",
    "\n",
    "- SAP RU only can work with personal data\n",
    "    - are they ready?\n",
    "    \n",
    "- Platform implementation\n",
    "    - partners \n",
    "    \n",
    "- Deployment plan\n",
    "    - how many times per week and probably when\n",
    "    \n",
    "- QA decomission"
   ]
  },
  {
   "cell_type": "markdown",
   "metadata": {},
   "source": []
  }
 ],
 "metadata": {
  "kernelspec": {
   "display_name": "Python 3",
   "language": "python",
   "name": "python3"
  },
  "language_info": {
   "codemirror_mode": {
    "name": "ipython",
    "version": 3
   },
   "file_extension": ".py",
   "mimetype": "text/x-python",
   "name": "python",
   "nbconvert_exporter": "python",
   "pygments_lexer": "ipython3",
   "version": "3.6.4"
  }
 },
 "nbformat": 4,
 "nbformat_minor": 2
}
