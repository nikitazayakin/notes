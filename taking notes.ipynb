{
 "cells": [
  {
   "cell_type": "markdown",
   "metadata": {},
   "source": [
    "# Taking notes Как делать заметки\n",
    "\n",
    "- [Как делать заметки как программист](https://habrahabr.ru/post/346876/%3A%2F%2Fzen.yandex.com)\n",
    "\n",
    "[плохая ссылка?](https://habrahabr.ru/company/smartprogress/blog/317184/)\n",
    "\n",
    "- продвинутый поисковик анализатор\n",
    "\n",
    "tags: #заметки #конспекты #notes #habrahabr"
   ]
  },
  {
   "cell_type": "markdown",
   "metadata": {},
   "source": [
    "# Синтаксис заметок\n",
    "- https://sourceforge.net/p/jupiter/wiki/markdown_syntax/\n",
    "- https://yandex.ru/search/?text=jupiter%20markdown&clid=1955453&win=318&lr=101764"
   ]
  },
  {
   "cell_type": "markdown",
   "metadata": {},
   "source": [
    "# Jypiter\n",
    "- https://jupyter.readthedocs.io/en/latest/running.html#running\n",
    "- http://ipython.org/\n",
    "- https://yandex.ru/search/?text=wiki%20jupyter&clid=1955453&win=318&lr=213"
   ]
  }
 ],
 "metadata": {
  "kernelspec": {
   "display_name": "Python 3",
   "language": "python",
   "name": "python3"
  },
  "language_info": {
   "codemirror_mode": {
    "name": "ipython",
    "version": 3
   },
   "file_extension": ".py",
   "mimetype": "text/x-python",
   "name": "python",
   "nbconvert_exporter": "python",
   "pygments_lexer": "ipython3",
   "version": "3.6.5"
  }
 },
 "nbformat": 4,
 "nbformat_minor": 2
}
