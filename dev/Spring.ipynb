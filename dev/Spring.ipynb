{
 "cells": [
  {
   "cell_type": "markdown",
   "metadata": {},
   "source": [
    "# web\n",
    "- [Spring autowire](https://www.google.ru/search?q=spring+autowire&oq=spring+autowire&aqs=chrome..69i57.2450j0j7&sourceid=chrome&ie=UTF-8)\n",
    "    - писать в xml устаревшая технология\n",
    "        - допустим я хочу добавить атрибут, я должен тогда забилдить код, \n",
    "- resource annotation\n",
    "    - sk uses instead of autowire\n",
    "    \n",
    "    \n",
    "- https://stackoverflow.com/questions/19930152/what-is-persistence-context\n",
    "- http://www.baeldung.com/spring-value-annotation\n",
    "- https://docs.spring.io/spring-ws/site/apidocs/org/springframework/ws/soap/server/endpoint/annotation/SoapAction.html"
   ]
  }
 ],
 "metadata": {
  "kernelspec": {
   "display_name": "Python 3",
   "language": "python",
   "name": "python3"
  },
  "language_info": {
   "codemirror_mode": {
    "name": "ipython",
    "version": 3
   },
   "file_extension": ".py",
   "mimetype": "text/x-python",
   "name": "python",
   "nbconvert_exporter": "python",
   "pygments_lexer": "ipython3",
   "version": "3.6.4"
  }
 },
 "nbformat": 4,
 "nbformat_minor": 2
}
