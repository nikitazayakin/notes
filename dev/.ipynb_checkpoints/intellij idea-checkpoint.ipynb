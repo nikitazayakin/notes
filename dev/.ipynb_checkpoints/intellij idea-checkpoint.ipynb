{
 "cells": [
  {
   "cell_type": "markdown",
   "metadata": {},
   "source": [
    "# multiline\n",
    "- multi select select one and press alt+j to select next occurence\n",
    "- [multicursor](https://www.jetbrains.com/help/idea/2016.1/multicursor.html)\n",
    "    - To add carets, do one of the following\n",
    "        - Press Shift+Alt and click the left mouse button at the location of the caret.\n",
    "        - Double-click Ctrl (Windows or UNIX)/Alt(OS X) and press up or down arrow keys."
   ]
  },
  {
   "cell_type": "markdown",
   "metadata": {},
   "source": [
    "# UML\n",
    "- [jidea how to draw uml diagram](https://www.google.ru/search?q=jidea+how+to+draw+uml+diagram&oq=jidea+how+to+draw+uml+diagram&aqs=chrome..69i57.7927j0j7&sourceid=chrome&ie=UTF-8)\n",
    "    - https://www.jetbrains.com/help/idea/viewing-diagram.html"
   ]
  }
 ],
 "metadata": {
  "kernelspec": {
   "display_name": "Python 3",
   "language": "python",
   "name": "python3"
  },
  "language_info": {
   "codemirror_mode": {
    "name": "ipython",
    "version": 3
   },
   "file_extension": ".py",
   "mimetype": "text/x-python",
   "name": "python",
   "nbconvert_exporter": "python",
   "pygments_lexer": "ipython3",
   "version": "3.6.4"
  }
 },
 "nbformat": 4,
 "nbformat_minor": 2
}
