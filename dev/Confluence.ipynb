{
 "cells": [
  {
   "cell_type": "markdown",
   "metadata": {},
   "source": [
    "- [links and anchors](https://confluence.atlassian.com/confcloud/insert-links-and-anchors-724764900.html)\n",
    "- [Text Formatting](https://jira.atlassian.com/secure/WikiRendererHelpAction.jspa?section=all)\n",
    "{noformat}\n",
    "preformatted piece of text\n",
    " so *no* further _formatting_ is done here\n",
    "{noformat}\n",
    "- [Confluence Wiki Markup](https://confluence.atlassian.com/doc/confluence-wiki-markup-251003035.html)\n",
    "- []()"
   ]
  },
  {
   "cell_type": "markdown",
   "metadata": {},
   "source": [
    "- [how to remove Confluence Page](https://confluence.atlassian.com/doc/delete-or-restore-a-page-139429.html)"
   ]
  },
  {
   "cell_type": "markdown",
   "metadata": {},
   "source": []
  }
 ],
 "metadata": {
  "kernelspec": {
   "display_name": "Python 3",
   "language": "python",
   "name": "python3"
  },
  "language_info": {
   "codemirror_mode": {
    "name": "ipython",
    "version": 3
   },
   "file_extension": ".py",
   "mimetype": "text/x-python",
   "name": "python",
   "nbconvert_exporter": "python",
   "pygments_lexer": "ipython3",
   "version": "3.6.4"
  }
 },
 "nbformat": 4,
 "nbformat_minor": 2
}
