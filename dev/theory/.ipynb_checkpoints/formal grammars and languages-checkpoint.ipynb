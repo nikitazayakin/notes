{
 "cells": [
  {
   "cell_type": "markdown",
   "metadata": {},
   "source": [
    "# Сбор данных\n",
    "- [гугл: формальные языки и грамматики](https://www.google.ru/search?num=100&newwindow=1&safe=off&ei=9ILXWon0AcaE6ASWjYegBw&q=%D1%84%D0%BE%D1%80%D0%BC%D0%B0%D0%BB%D1%8C%D0%BD%D1%8B%D0%B5+%D0%B3%D1%80%D0%B0%D0%BC%D0%BC%D0%B0%D1%82%D0%B8%D0%BA%D0%B8+%D0%B8+%D1%8F%D0%B7%D1%8B%D0%BA%D0%B8&oq=%D1%84%D0%BE%D1%80%D0%BC%D0%B0%D0%BB%D1%8C%D0%BD%D1%8B%D0%B5+%D0%B3%D1%80%D0%B0%D0%BC%D0%BC%D0%B0%D1%82%D0%B8%D0%BA%D0%B8&gs_l=psy-ab.3.2.0i71k1l8.0.0.0.7918.0.0.0.0.0.0.0.0..0.0....0...1c..64.psy-ab..0.0.0....0.feiEqEzc-RU)\n",
    "    - [Учебное пособие для студентов II курса](http://localhost:8888/files/dev/theory/docs/lavy_formal.grammars.and_.languages.2009.pdf)\n",
    "        - м язык\n",
    "        - самое трудное ли? нарисовать диаграмму\n",
    "    - [Формальные грамматики и языки. Элементы теории трансляции](http://localhost:8888/files/dev/theory/docs/lang_grams.pdf)\n",
    "        - [code]()"
   ]
  },
  {
   "cell_type": "markdown",
   "metadata": {},
   "source": [
    "# Отвлеченный Сбор данных По С++\n",
    "- IDE\n",
    "    - [clion crack](https://yandex.ru/search/?lr=213&clid=1955454&win=319&text=clion%20crack)\n",
    "- [Garbage Collector & C++ / Хабрахабр](https://m.habrahabr.ru/post/282544/)\n"
   ]
  }
 ],
 "metadata": {
  "kernelspec": {
   "display_name": "Python 3",
   "language": "python",
   "name": "python3"
  },
  "language_info": {
   "codemirror_mode": {
    "name": "ipython",
    "version": 3
   },
   "file_extension": ".py",
   "mimetype": "text/x-python",
   "name": "python",
   "nbconvert_exporter": "python",
   "pygments_lexer": "ipython3",
   "version": "3.6.4"
  }
 },
 "nbformat": 4,
 "nbformat_minor": 2
}
