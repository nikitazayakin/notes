{
 "cells": [
  {
   "cell_type": "markdown",
   "metadata": {},
   "source": [
    "# web\n",
    "- [code architecture](https://habr.com/post/353698/%3A%2F%2Fzen.yandex.com)\n",
    "- https://habr.com/post/353734/%3A%2F%2Fzen.yandex.com\n",
    "- \n"
   ]
  },
  {
   "cell_type": "markdown",
   "metadata": {},
   "source": [
    "#\n",
    "\n",
    "- https://www.google.ru/search?q=The+Software+Architecture+Definition+document+describes+the+subsystems+and+components+of+the+solution+by+presenting+a+number+of+architectural+views&oq=The+Software+Architecture+Definition+document+describes+the+subsystems+and+components+of+the+solution+by+presenting+a+number+of+architectural+views&aqs=chrome..69i57j69i64l2.258j0j7&sourceid=chrome&ie=UTF-8\n",
    "    - https://www.nyu.edu/classes/jcf/g22.3033-007/slides/session2/g22_3033_011_c23.pdf\n",
    "    - https://www.nyu.edu/classes/jcf/g22.3033-007/\n",
    "    \n",
    "    "
   ]
  }
 ],
 "metadata": {
  "kernelspec": {
   "display_name": "Python 3",
   "language": "python",
   "name": "python3"
  },
  "language_info": {
   "codemirror_mode": {
    "name": "ipython",
    "version": 3
   },
   "file_extension": ".py",
   "mimetype": "text/x-python",
   "name": "python",
   "nbconvert_exporter": "python",
   "pygments_lexer": "ipython3",
   "version": "3.6.4"
  }
 },
 "nbformat": 4,
 "nbformat_minor": 2
}
