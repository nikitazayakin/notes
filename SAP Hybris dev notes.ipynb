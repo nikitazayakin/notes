{
 "cells": [
  {
   "cell_type": "markdown",
   "metadata": {},
   "source": [
    "HC Accelerator Documentation\n",
    "- [B2C/B2B Accelerator Implementation Guide](https://wiki.hybris.com/pages/viewpage.action?pageId=289440891)\n",
    "- [Release 5 Trails](https://wiki.hybris.com/display/R5T/Release+5+Trails)\n",
    "\n",
    "- []()   "
   ]
  }
 ],
 "metadata": {
  "kernelspec": {
   "display_name": "Python 3",
   "language": "python",
   "name": "python3"
  },
  "language_info": {
   "codemirror_mode": {
    "name": "ipython",
    "version": 3
   },
   "file_extension": ".py",
   "mimetype": "text/x-python",
   "name": "python",
   "nbconvert_exporter": "python",
   "pygments_lexer": "ipython3",
   "version": "3.6.4"
  }
 },
 "nbformat": 4,
 "nbformat_minor": 2
}
