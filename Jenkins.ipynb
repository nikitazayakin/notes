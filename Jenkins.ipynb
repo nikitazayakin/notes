{
 "cells": [
  {
   "cell_type": "markdown",
   "metadata": {},
   "source": [
    "# Jenkins in gloria\n",
    "jenkins parameters\n",
    "\n",
    "\n",
    "/opt/apps/jenkins/\n",
    "\n",
    "#git files\n",
    "/var/lib/jenkins/workspace/GJ/\n",
    "\n",
    "#hybris files\n",
    "/opt/apps/jenkins/hybris6_7\n",
    "\n",
    "\n",
    "/opt/apps/jenkins/deployment_packages"
   ]
  },
  {
   "cell_type": "markdown",
   "metadata": {},
   "source": [
    "# CI - что к чему, сбор информации\n",
    "- [wiki jenkins](https://www.google.ru/search?q=wiki+jenkins&oq=wiki+jenkins&aqs=chrome..69i57j69i60l2j69i64l3.11887j0j7&sourceid=chrome&ie=UTF-8)\n",
    "- [jenkins quick guide]()\n",
    "\n",
    "\n",
    "- [jenkins GDSL](https://www.google.ru/search?q=jenkins+gdsl&oq=jenkins+gdsl&aqs=chrome..69i57.2951j0j7&sourceid=chrome&ie=UTF-8)\n",
    "- []()\n",
    "    - джобы\n",
    "    - сборка\n",
    "    - гитхаб\n",
    "    \n",
    "- Jenkins - gitlab CI runner - а что у докеров?\n",
    "- зачем нужно какие альтернативы\n",
    "    - нексус это репозиторий докеров\n",
    "- ? jenkins stash\n",
    "\n",
    "По ДМ:\n",
    "\n",
    "декларативный императивный ЯП\n",
    "- [Jenkins декларативный язык](https://www.google.ru/search?num=100&newwindow=1&safe=off&ei=GL_QWpKfFcahsgH62YbgCQ&q=jenkins+%D0%B4%D0%B5%D0%BA%D0%BB%D0%B0%D1%80%D0%B0%D1%82%D0%B8%D0%B2%D0%BD%D1%8B%D0%B9+%D1%8F%D0%B7%D1%8B%D0%BA&oq=jenkins+%D0%B4%D0%B5%D0%BA%D0%BB%D0%B0%D1%80%D0%B0%D1%82%D0%B8%D0%B2%D0%BD%D1%8B%D0%B9+%D1%8F%D0%B7%D1%8B%D0%BA&gs_l=psy-ab.3...0.0.0.118775.0.0.0.0.0.0.0.0..0.0....0...1c..64.psy-ab..0.0.0....0.moeVxJoH-Vw)\n",
    "- [декларативный язык и Jenkins](https://www.google.ru/search?num=100&newwindow=1&safe=off&q=%D0%B4%D0%B5%D0%BA%D0%BB%D0%B0%D1%80%D0%B0%D1%82%D0%B8%D0%B2%D0%BD%D1%8B%D0%B9+%D1%8F%D0%B7%D1%8B%D0%BA+%D0%B8+jenkins&spell=1&sa=X&ved=0ahUKEwjN7rvAvLfaAhXJJSwKHb4MDD4QBQgmKAA&biw=1879&bih=916)\n",
    "    - [Groovy dsl в Jenkins](https://www.meetup.com/Moscow-Jenkins-Meetup/events/241684824/#)\n",
    "        - [Moscow Jenkins Meetup](https://www.meetup.com/Moscow-Jenkins-Meetup/)\n",
    "            - \n",
    "\n",
    "\n",
    "dsl script loader\n",
    "скармливаешь описание джобов\n",
    "сформированный txt файлик\n",
    "    докерфайл с ансиболом пришлось подкрутить\n",
    "    доступ на удаленную машинку по ссх ключу публичный  ключ\n",
    "    файл кновн хостс\n",
    "    туда добавить хосту куда дженкинс деплоит\n",
    "\n",
    "    айди группы докера должен быть такой же как в хостовой машине\n",
    "    \n",
    "    пул реквест добавляю туда дсл описание джоба мерджу и добавляю\n",
    "    \n",
    "    любой элемент архитектуры должен быть легким?\n",
    "    \n",
    "    готовый образ хранилища официальный запускаю контейнер и маплю директорию \n",
    "    \n",
    "    официальный образ в докер хабе рекомендуется\n",
    "    \n",
    "    для active mq не нашли\n",
    "    \n",
    "    "
   ]
  },
  {
   "cell_type": "markdown",
   "metadata": {},
   "source": [
    "- http://192.168.238.230:8080/\n",
    "- admin/nimda\n",
    "\n",
    "- http://ci.av.ru  \n",
    "- apanasovich qwerty$4   "
   ]
  },
  {
   "cell_type": "markdown",
   "metadata": {},
   "source": [
    "# jenkins inside docker\n",
    "- https://getintodevops.com/blog/building-your-first-docker-image-with-jenkins-2-guide-for-developers\n",
    "- https://stackoverflow.com/questions/34706077/starting-jenkins-in-docker-container"
   ]
  }
 ],
 "metadata": {
  "kernelspec": {
   "display_name": "Python 3",
   "language": "python",
   "name": "python3"
  },
  "language_info": {
   "codemirror_mode": {
    "name": "ipython",
    "version": 3
   },
   "file_extension": ".py",
   "mimetype": "text/x-python",
   "name": "python",
   "nbconvert_exporter": "python",
   "pygments_lexer": "ipython3",
   "version": "3.6.4"
  }
 },
 "nbformat": 4,
 "nbformat_minor": 2
}
