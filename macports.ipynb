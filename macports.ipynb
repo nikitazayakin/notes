{
 "cells": [
  {
   "cell_type": "markdown",
   "metadata": {},
   "source": [
    "\n",
    "# guide\n",
    "- https://guide.macports.org\n",
    "- https://trac.macports.org/wiki/howto/bash-completion"
   ]
  },
  {
   "cell_type": "markdown",
   "metadata": {},
   "source": [
    "# docker completion\n",
    "- [bash completion](https://habr.com/post/71525/)\n",
    "    - Для того, чтобы активировать возможности completion достаточно сделать следующее:\n",
    "        - root@mould:~# . /etc/bash_completion\n",
    "        - how to do it in mac \n",
    "        - as i found in /opt/local/share/bash-completion/bash_completion \n",
    "            - compat_dir=${BASH_COMPLETION_COMPAT_DIR:-/opt/local/etc/bash_completion.d}\n",
    "        - so i added following soft links to this dir\n",
    "            - sudo ln -s /Applications/Docker.app/Contents/Resources/etc/docker-compose.bash-completion docker-compose\n",
    "            - sudo ln -s /Applications/Docker.app/Contents/Resources/etc/docker-machine.bash-completion docker-machine\n",
    "            - sudo ln -s /Applications/Docker.app/Contents/Resources/etc/docker.bash-completion docker\n",
    "            \n",
    "    - https://trac.macports.org/wiki/howto/bash-completion\n",
    "- [rkuzsma/docker-bash-completion.md](https://gist.github.com/rkuzsma/4f8c1354a9ea67fb3ca915b50e131d1c)\n",
    "    - "
   ]
  }
 ],
 "metadata": {
  "kernelspec": {
   "display_name": "Python 3",
   "language": "python",
   "name": "python3"
  },
  "language_info": {
   "codemirror_mode": {
    "name": "ipython",
    "version": 3
   },
   "file_extension": ".py",
   "mimetype": "text/x-python",
   "name": "python",
   "nbconvert_exporter": "python",
   "pygments_lexer": "ipython3",
   "version": "3.6.4"
  }
 },
 "nbformat": 4,
 "nbformat_minor": 2
}
