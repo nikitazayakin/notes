{
 "cells": [
  {
   "cell_type": "markdown",
   "metadata": {},
   "source": [
    "Лена, Саша, просьба внимательно следить тем как мы коммуницируем, кому и что мы засылаем на согласование, комментарии и т.д. Очень много разных ответственных с разных сторон и крайне важно никого из ответственных/участников не терять из процесса. В качестве шпаргалки смотрите WF:\n",
    "- https://confluence.fil-it.ru/pages/viewpage.action?pageId=1146974\n",
    "- https://confluence.fil-it.ru/pages/viewpage.action?pageId=1146989\n",
    "\n",
    "- #бизнесПроцесс"
   ]
  },
  {
   "cell_type": "markdown",
   "metadata": {},
   "source": [
    "- "
   ]
  }
 ],
 "metadata": {
  "kernelspec": {
   "display_name": "Python 3",
   "language": "python",
   "name": "python3"
  },
  "language_info": {
   "codemirror_mode": {
    "name": "ipython",
    "version": 3
   },
   "file_extension": ".py",
   "mimetype": "text/x-python",
   "name": "python",
   "nbconvert_exporter": "python",
   "pygments_lexer": "ipython3",
   "version": "3.6.4"
  }
 },
 "nbformat": 4,
 "nbformat_minor": 2
}
