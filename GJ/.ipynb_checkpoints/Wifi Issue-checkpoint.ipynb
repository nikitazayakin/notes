{
 "cells": [
  {
   "cell_type": "markdown",
   "metadata": {},
   "source": [
    "# Macbooks\n",
    "\n",
    "aruba hardware\n",
    "- http://community.arubanetworks.com/t5/Wireless-Access/MacBook-s-Lose-Connectivity-amp-Have-issues-roaming/td-p/245935\n",
    "    - https://www.google.ru/search?q=mac+books+wifi+accessibility+issue&oq=mac+books+wifi+accessibility+issue&aqs=chrome..69i57j69i64.10301j0j7&sourceid=chrome&ie=UTF-8\n",
    "    \n",
    "macbook 5ghz issue\n",
    "- https://www.google.ru/search?q=mac+os+wifi+connect+to+5+ghz&oq=mac+os+wifi+connect+to+5+ghz&aqs=chrome..69i57j69i64.20264j0j7&sourceid=chrome&ie=UTF-8"
   ]
  },
  {
   "cell_type": "markdown",
   "metadata": {},
   "source": [
    "# Settings\n",
    "\n",
    "- Gj guest password:\n",
    "    - SuPerprofit\n",
    "    \n",
    "- GJ wpa-2 Enterprise\n",
    "Для тех кто в офисе на Курской. Удалось настроить интернет через сеть GJ.\n",
    "1) Вручную добавляем сеть с именем GJ. Коннектимся к ней с использованием логина\\пароля, которые скидывали выше\n",
    "2) Скачиваем и ставим програмку cntlm http://cntlm.sourceforge.net/\n",
    "3) Настраиваем программу cntlm. Можно использовать руководство типо этого: http://www.ekzorchik.ru/2013/06/working-with-windows-7-through-a-proxy-server-cntlm/\n",
    "4) Прописываем системное прокси\n",
    "5) Профит!\n",
    "\n",
    "- [15:49, 5/15/2018] Александр Васильевич Панасович, Liga: http://tmg.gloria.aaanet.ru\n",
    "- msk-tmg.gloria.aaanet.ru:3128\n",
    "- [15:49, 5/15/2018] Александр Васильевич Панасович, Liga: Порт  3128\n",
    "\n",
    "Пароль для всех одинаковый начальный Ertyui987\n",
    "Полное имя: SAP (Перинская Елена Вячеславовна)\n",
    "Имя входа пользователя: Perinskaya@gloria-jeans.ru\n",
    "Полное имя: SAP Черникова Марина Владимировна\n",
    "Имя входа пользователя: Chernikova@gloria-jeans.ru\n",
    "Полное имя: SAP Панасович Александр Васильевич\n",
    "Имя входа пользователя: Panasovich@gloria-jeans.ru\n",
    "Полное имя: SAP Заякин Никита Александрович\n",
    "Имя входа пользователя: Zayakin@gloria-jeans.ru\n",
    "Полное имя: SAP Линцевич Артем Владимирович\n",
    "Имя входа пользователя: Lincevich@gloria-jeans.ru\n",
    "Полное имя: SAP Доба Артем Юрьевич\n",
    "Имя входа пользователя: Doba@gloria-jeans.ru\n",
    "Полное имя: SAP Климакин Алексей Валерьевич\n",
    "Имя входа пользователя: Klimakin@gloria-jeans.ru\n",
    "Полное имя: SAP Каримов Еркин Равильевич\n",
    "Имя входа пользователя: Karimov@gloria-jeans.ru\n",
    "Полное имя: SAP Пулина Елена Викторовна\n",
    "Имя входа пользователя: Pulina@gloria-jeans.ru\n",
    "\n"
   ]
  },
  {
   "cell_type": "markdown",
   "metadata": {},
   "source": [
    "# Wifi Access Point\n",
    "\n",
    "- https://www.arubanetworks.com/products/networking/access-points/330-series/"
   ]
  }
 ],
 "metadata": {
  "kernelspec": {
   "display_name": "Python 3",
   "language": "python",
   "name": "python3"
  },
  "language_info": {
   "codemirror_mode": {
    "name": "ipython",
    "version": 3
   },
   "file_extension": ".py",
   "mimetype": "text/x-python",
   "name": "python",
   "nbconvert_exporter": "python",
   "pygments_lexer": "ipython3",
   "version": "3.6.4"
  }
 },
 "nbformat": 4,
 "nbformat_minor": 2
}
