{
 "cells": [
  {
   "cell_type": "markdown",
   "metadata": {},
   "source": [
    "# cccc\n",
    "\n",
    "Все привет!\n",
    "Для тех кто в офисе на Курской. Удалось настроить интернет через сеть GJ.\n",
    "1) Вручную добавляем сеть с именем GJ. Коннектимся к ней с использованием логина\\пароля, которые скидывали выше\n",
    "2) Скачиваем и ставим програмку cntlm http://cntlm.sourceforge.net/\n",
    "3) Настраиваем программу cntlm. Можно использовать руководство типо этого: http://www.ekzorchik.ru/2013/06/working-with-windows-7-through-a-proxy-server-cntlm/\n",
    "4) Прописываем системное прокси\n",
    "5) Профит!\n",
    "\n",
    "Ertyui987\n",
    "Zayakin@gloria-jeans.ru\n",
    "\n",
    "--proxy-server=\"localhost:3128\"\n",
    "\n",
    "sudo /usr/sbin/cntlm -f -v -c /etc/cntlm.conf\n",
    "\n"
   ]
  }
 ],
 "metadata": {
  "kernelspec": {
   "display_name": "Python 3",
   "language": "python",
   "name": "python3"
  },
  "language_info": {
   "codemirror_mode": {
    "name": "ipython",
    "version": 3
   },
   "file_extension": ".py",
   "mimetype": "text/x-python",
   "name": "python",
   "nbconvert_exporter": "python",
   "pygments_lexer": "ipython3",
   "version": "3.6.4"
  }
 },
 "nbformat": 4,
 "nbformat_minor": 2
}
