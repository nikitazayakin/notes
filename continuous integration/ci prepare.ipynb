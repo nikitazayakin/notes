{
 "cells": [
  {
   "cell_type": "markdown",
   "metadata": {},
   "source": [
    "# CI Tools\n",
    "\n",
    "\n",
    "# Docker\n",
    "**Documentation**\n",
    "- [Docker documetntation](https://docs.docker.com)\n",
    "    - [docker-compose](https://docs.docker.com/compose/completion/)\n",
    "**Literature**\n",
    "- [Использование Docker](https://www.ozon.ru/context/detail/id/139411597/)\n",
    "    - []()\n",
    "\n",
    "# gitlab\n",
    "- [google: ci runner connect to gitlab](https://www.google.ru/search?q=ci+runner+connect+to+gitlab&oq=ci+runner+connect+to+gitlab&aqs=chrome..69i57.11832j0j7&sourceid=chrome&ie=UTF-8)\n",
    "    - [Configuring GitLab Runners](https://docs.gitlab.com/ee/ci/runners/)\n",
    "    \n",
    "# jenkins\n",
    "- [Mastering jenkins book preview](https://books.google.ru/books?id=gvt_CwAAQBAJ&pg=PA150&lpg=PA150&dq=jenkins+dml&source=bl&ots=WziWADbIql&sig=lOQAxXGMjoruWuLyObWiA0wE6MQ&hl=en&sa=X&ved=0ahUKEwif7rOWgezaAhUpD5oKHU6qBdwQ6AEIUzAF#v=onepage&q=jenkins%20dml&f=false)\n",
    "    # web\n",
    "    - [Jenkins Pipelines](https://jenkins.io/doc/book/pipeline/getting-started/)"
   ]
  },
  {
   "cell_type": "markdown",
   "metadata": {},
   "source": [
    "# Continuous delivery\n",
    "- [Continuous Delivery: Reliable Software Releases through Build, Test, and Deployment Automation (Addison-Wesley Signature Series (Fowler))](https://www.amazon.com/Continuous-Delivery-Deployment-Automation-Addison-Wesley/dp/0321601912/ref=mt_hardcover?ref_=nav_ya_signin&_encoding=UTF8&)\n",
    "# web\n",
    "- - [Для чего программисту Continuous Integration и с чего начинать](https://habr.com/post/353194/%3A%2F%2Fzen.yandex.com)"
   ]
  }
 ],
 "metadata": {
  "kernelspec": {
   "display_name": "Python 3",
   "language": "python",
   "name": "python3"
  },
  "language_info": {
   "codemirror_mode": {
    "name": "ipython",
    "version": 3
   },
   "file_extension": ".py",
   "mimetype": "text/x-python",
   "name": "python",
   "nbconvert_exporter": "python",
   "pygments_lexer": "ipython3",
   "version": "3.6.4"
  }
 },
 "nbformat": 4,
 "nbformat_minor": 2
}
