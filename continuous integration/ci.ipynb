{
 "cells": [
  {
   "cell_type": "markdown",
   "metadata": {},
   "source": [
    "# Gitlab omnibus\n",
    "- https://docs.gitlab.com/omnibus/README.html\n",
    "    - [docker installation](https://docs.gitlab.com/ee/install/docker.html)\n",
    "        - [See Preparing a Build Environment page for instructions on how to prepare build environment using Docker.\n",
    "](https://docs.gitlab.com/omnibus/build/prepare-build-environment.html)\n",
    "        - https://gitlab.com/gitlab-org/omnibus-gitlab/tree/master/\n",
    "        - https://gitlab.com/gitlab-org/gitlab-omnibus-builder/container_registry\n",
    "- https://hub.docker.com/r/gitlab/gitlab-ce/"
   ]
  },
  {
   "cell_type": "markdown",
   "metadata": {},
   "source": [
    "# Gitlab\n",
    "https://habr.com/company/softmart/blog/306860/\n",
    "\n",
    "- [Docker, GitLab, бесплатные SSL-сертификаты и другие плюшки современной веб-разработки](https://habr.com/post/317636/)\n",
    "\n",
    "- [Как очень просто установить GitLab сервер](http://blog.asidorov.name/2014/07/gitlab.html)\n",
    "    - поменять конфиг\n",
    "        - vim /etc/gitlab/gitlab.rb \n",
    "        - Тут я указал свой домен: external_url 'http://asidorov.name'\n",
    "    - перезапустить сервер\n",
    "        - gitlab-ctl reconfigure\n",
    "    - первоначальный логин/пароль\n",
    "        - Первоначальные реквизиты доступа:\n",
    "Пользователь: root\n",
    "Пароль: 5iveL!fe\n"
   ]
  },
  {
   "cell_type": "markdown",
   "metadata": {},
   "source": [
    "# docker\n",
    "\n",
    "- tutorial https://docs.docker.com/docker-for-mac/\n",
    "    Start dockerised webserver \n",
    "        docker run -d -p 80:80 --name webserver nginx\n",
    "        \n",
    "- play with docker https://labs.play-with-docker.com/?stack=https://raw.githubusercontent.com/docker-library/docs/9efeec18b6b2ed232cf0fbd3914b6211e16e242c/elasticsearch/stack.yml"
   ]
  },
  {
   "cell_type": "markdown",
   "metadata": {},
   "source": [
    "- https://yandex.ru/search/?text=docker&clid=1955453&win=318&lr=213\n"
   ]
  }
 ],
 "metadata": {
  "kernelspec": {
   "display_name": "Python 3",
   "language": "python",
   "name": "python3"
  },
  "language_info": {
   "codemirror_mode": {
    "name": "ipython",
    "version": 3
   },
   "file_extension": ".py",
   "mimetype": "text/x-python",
   "name": "python",
   "nbconvert_exporter": "python",
   "pygments_lexer": "ipython3",
   "version": "3.6.4"
  }
 },
 "nbformat": 4,
 "nbformat_minor": 2
}
