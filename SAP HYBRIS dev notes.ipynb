{
 "cells": [
  {
   "cell_type": "markdown",
   "metadata": {},
   "source": [
    "HC Accelerator Documentation\n",
    "- [B2C/B2B Accelerator Implementation Guide](https://wiki.hybris.com/pages/viewpage.action?pageId=289440891)\n",
    "- [Release 5 Trails](https://wiki.hybris.com/display/R5T/Release+5+Trails)\n",
    "H Documentation\n",
    "- [Reference](https://help.hybris.com/6.7.0/hcd/50f85820edaa406a8c6103bb9725d637.html)   "
   ]
  },
  {
   "cell_type": "markdown",
   "metadata": {},
   "source": [
    "# Upgrade 6.6 to 6.7\n",
    "- [upgrade hybris commerce](https://help.hybris.com/6.7.0/hcd/8be8ff7d866910149618f66c130dab3d.html)\n",
    "    - [upgrade core](https://help.hybris.com/6.7.0/hcd/71ce7fccfb3242c09690e8000e6e681f.html#loio960dea6985154db48f53f2fc0f4e11f3)\n",
    "\n",
    "- [google .classpath file](https://www.google.ru/search?q=.classpath+file&oq=.classpath+file&aqs=chrome..69i57.6018j0j7&sourceid=chrome&ie=UTF-8)\n",
    "    - [google org.eclipse.jdt.USER_LIBRARY/ngdbc](https://www.google.ru/search?q=org.eclipse.jdt.USER_LIBRARY%2Fngdbc&oq=org.eclipse.jdt.USER_LIBRARY%2Fngdbc&aqs=chrome..69i57j69i58.355j0j7&sourceid=chrome&ie=UTF-8)\n",
    "- \n",
    "\n",
    "- upgrade tomcat\n",
    "    - https://help.hybris.com/6.7.0/hcd/5f704237175a44c7ab4cd9ec7cc7293d.html\n",
    "        - https://tomcat.apache.org/download-70.cgi\n",
    "        - http://apache-mirror.rbc.ru/pub/apache/tomcat/tomcat-7/v7.0.86/bin/extras/\n",
    "        \n",
    "# upgrade hybris server on dev sap_cloud\n",
    "- [release notes](https://help.hybris.com/6.7.0/hcd/8c39dca2866910148073b1b86eeec916.html)\n",
    "- [hybris build failed on /opt/hybris_glj-d_v0.1.2/bin/ext-atdd/atddengine/classes](https://www.google.ru/search?q=hybris+build+failed+on+%2Fopt%2Fhybris_glj-d_v0.1.2%2Fbin%2Fext-atdd%2Fatddengine%2Fclasses&oq=hybris+build+failed+on+%2Fopt%2Fhybris_glj-d_v0.1.2%2Fbin%2Fext-atdd%2Fatddengine%2Fclasses&aqs=chrome..69i57.1964716j0j7&sourceid=chrome&ie=UTF-8).\n",
    "- [avoid hybris java.lang.ClassNotFoundException: org.apache.catalina.core.JasperListener exeption](https://github.com/voxpupuli/puppet-jira/issues/135)\n"
   ]
  },
  {
   "cell_type": "markdown",
   "metadata": {},
   "source": [
    "# trails\n",
    "\n",
    "# trail core 6_6\n",
    "\n",
    "# trail commerce 5_7 part 2\n",
    "    - Adding New Themes_\n",
    "        - Copy an existing theme\n",
    "        - Create web/webroot/WEB-INF/messages/theme-merchandise-desktop.properties\n",
    "        - Announce the new theme and provide localization\n",
    "        - Modify your theme in the project merchandisestorefront\n",
    "            - add stylesheets for some google webfonts\n",
    "        - Either update essentialdata or import the three impex files from above manually in the hac\n",
    "        - \n",
    "    - Customizing Product Search Page_\n",
    "        - Index the new flag in the solr index\n",
    "            - We need to add an indexed property of type boolean, the internalOnly attribute of the Product item\n",
    "            - Now, we can assign boolean values for the internalOnly attribute of some of our shop's products. Please find the file where the products are imported and add some values to an additional column : internalOnly\n",
    "            - Check that the new flag's internalOnly - values are included in the solr index:\n",
    "                - ??? Facet search -> Indexed Types\n",
    "        - Extend the Product DTO class and the relevant converters\n",
    "            - \n",
    "# trail core 5_7\n",
    "\n"
   ]
  },
  {
   "cell_type": "markdown",
   "metadata": {},
   "source": [
    "# Dummy Questions\n",
    "\n",
    "- (вместо new, ты пишешь autowired) autowired позволяет инжектировать\n",
    "    - в 6м траиле, фасады уже autowired, а дао через xml'описаны\n",
    "        - http://www.baeldung.com/spring-autowire\n",
    "        - http://spring-projects.ru/guides/lessons/lesson-2/\n",
    "        "
   ]
  }
 ],
 "metadata": {
  "kernelspec": {
   "display_name": "Python 3",
   "language": "python",
   "name": "python3"
  },
  "language_info": {
   "codemirror_mode": {
    "name": "ipython",
    "version": 3
   },
   "file_extension": ".py",
   "mimetype": "text/x-python",
   "name": "python",
   "nbconvert_exporter": "python",
   "pygments_lexer": "ipython3",
   "version": "3.6.4"
  }
 },
 "nbformat": 4,
 "nbformat_minor": 2
}
