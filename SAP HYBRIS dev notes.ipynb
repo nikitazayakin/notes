{
 "cells": [
  {
   "cell_type": "markdown",
   "metadata": {},
   "source": [
    "HC Accelerator Documentation\n",
    "- [B2C/B2B Accelerator Implementation Guide](https://wiki.hybris.com/pages/viewpage.action?pageId=289440891)\n",
    "- [Release 5 Trails](https://wiki.hybris.com/display/R5T/Release+5+Trails)\n",
    "H Documentation\n",
    "- [Reference](https://help.hybris.com/6.7.0/hcd/50f85820edaa406a8c6103bb9725d637.html)   "
   ]
  },
  {
   "cell_type": "markdown",
   "metadata": {},
   "source": [
    "# Upgrade 6.6 to 6.7\n",
    "- [upgrade hybris commerce](https://help.hybris.com/6.7.0/hcd/8be8ff7d866910149618f66c130dab3d.html)\n",
    "    - [upgrade core](https://help.hybris.com/6.7.0/hcd/71ce7fccfb3242c09690e8000e6e681f.html#loio960dea6985154db48f53f2fc0f4e11f3)\n",
    "\n",
    "- [google .classpath file](https://www.google.ru/search?q=.classpath+file&oq=.classpath+file&aqs=chrome..69i57.6018j0j7&sourceid=chrome&ie=UTF-8)\n",
    "    - [google org.eclipse.jdt.USER_LIBRARY/ngdbc](https://www.google.ru/search?q=org.eclipse.jdt.USER_LIBRARY%2Fngdbc&oq=org.eclipse.jdt.USER_LIBRARY%2Fngdbc&aqs=chrome..69i57j69i58.355j0j7&sourceid=chrome&ie=UTF-8)\n",
    "- \n",
    "\n",
    "- upgrade tomcat\n",
    "    - https://help.hybris.com/6.7.0/hcd/5f704237175a44c7ab4cd9ec7cc7293d.html\n",
    "        - https://tomcat.apache.org/download-70.cgi\n",
    "        - http://apache-mirror.rbc.ru/pub/apache/tomcat/tomcat-7/v7.0.86/bin/extras/\n",
    "        \n",
    "# upgrade hybris server on dev sap_cloud\n",
    "- [release notes](https://help.hybris.com/6.7.0/hcd/8c39dca2866910148073b1b86eeec916.html)\n",
    "- [hybris build failed on /opt/hybris_glj-d_v0.1.2/bin/ext-atdd/atddengine/classes](https://www.google.ru/search?q=hybris+build+failed+on+%2Fopt%2Fhybris_glj-d_v0.1.2%2Fbin%2Fext-atdd%2Fatddengine%2Fclasses&oq=hybris+build+failed+on+%2Fopt%2Fhybris_glj-d_v0.1.2%2Fbin%2Fext-atdd%2Fatddengine%2Fclasses&aqs=chrome..69i57.1964716j0j7&sourceid=chrome&ie=UTF-8).\n",
    "- [avoid hybris java.lang.ClassNotFoundException: org.apache.catalina.core.JasperListener exeption](https://github.com/voxpupuli/puppet-jira/issues/135)\n"
   ]
  },
  {
   "cell_type": "markdown",
   "metadata": {},
   "source": [
    "# trails\n",
    "\n",
    "# trail core 6_6\n",
    "\n",
    "# trail commerce 5_7 part 2\n",
    "- Adding New Themes_\n",
    "    - Copy an existing theme\n",
    "    - Create web/webroot/WEB-INF/messages/theme-merchandise-desktop.properties\n",
    "    - Announce the new theme and provide localization\n",
    "    - Modify your theme in the project merchandisestorefront\n",
    "        - add stylesheets for some google webfonts\n",
    "    - Either update essentialdata or import the three impex files from above manually in the hac\n",
    "    - \n",
    "- Customizing Product Search Page_\n",
    "    - Index the new flag in the solr index\n",
    "        - We need to add an indexed property of type boolean, the internalOnly attribute of the Product item\n",
    "        - Now, we can assign boolean values for the internalOnly attribute of some of our shop's products. Please find the file where the products are imported and add some values to an additional column : internalOnly\n",
    "        - Check that the new flag's internalOnly - values are included in the solr index:\n",
    "            - ??? Facet search -> Indexed Types\n",
    "    - Extend the Product DTO class and the relevant converters\n",
    "    - Extend the Customer DTO class and relevant converter.\n",
    "    - Use the DTO fields to modify product pages.\n",
    "        - We will modify .tag files in our front end to display a disabled Add to Cart button indicating that the item is not available.\n",
    "            - [javaee/5/tutorial: Encapsulating Reusable Content Using Tag Files](https://docs.oracle.com/javaee/5/tutorial/doc/bnama.html)\n",
    "- [Tweaking SolR Attributes and Facets_](https://wiki.hybris.com/pages/viewpage.action?pageId=294094315)\n",
    "    - **Purpose**: This trail will show you how to add your own index property to the existing solr index.\n",
    "    \n",
    "\n",
    "# trail core 5_7\n",
    "\n"
   ]
  },
  {
   "cell_type": "markdown",
   "metadata": {},
   "source": [
    "# Dummy Questions\n",
    "\n",
    "- (вместо new, ты пишешь autowired) autowired позволяет инжектировать\n",
    "    - в 6м траиле, фасады уже autowired, а дао через xml'описаны\n",
    "        - http://www.baeldung.com/spring-autowire\n",
    "        - http://spring-projects.ru/guides/lessons/lesson-2/\n",
    "        "
   ]
  },
  {
   "cell_type": "markdown",
   "metadata": {},
   "source": [
    "# Media Conversion\n",
    "https://www.google.ru/search?num=100&newwindow=1&safe=off&ei=O-wPW9fSEcKSsgHapaKQBQ&q=hybris+MediaFormat+ConversionMediaFormat&oq=hybris+MediaFormat+ConversionMediaFormat&gs_l=psy-ab.3..33i160k1l2.6694.37557.0.37705.32.32.0.0.0.0.234.2994.4j16j2.22.0....0...1c.1.64.psy-ab..10.18.2359...35i39k1j33i21k1.0.J1PvophY2yk\n",
    "\n",
    "#MediaConversion"
   ]
  },
  {
   "cell_type": "markdown",
   "metadata": {},
   "source": [
    "# Type System\n",
    "- https://help.hybris.com/6.7.0/hcd/8c755da8866910149c27ec908fc577ef.html\n",
    "\n",
    "\n",
    "# Rest Services\n",
    "- https://help.hybris.com/6.7.0/hcd/8c187271866910149a22ac90eadaa3ad.html"
   ]
  },
  {
   "cell_type": "markdown",
   "metadata": {},
   "source": [
    "# Backoffice\n",
    "- [Backoffice Framework - Technical Guide](https://help.hybris.com/6.7.0/hcd/26804722a0ff4c99a36fc08f57799d60.html)\n",
    "    - [Creating a Custom Backoffice Extension](https://help.hybris.com/6.6.0/hcd/8bd2f59e86691014859ba68181c14710.html)\n",
    "    - [Creating a Widget](https://help.hybris.com/6.6.0/hcd/8bd4366a86691014b818f8dd642790a8.html)\n",
    "\n",
    "# adding buttons and actions to them\n",
    "- Actions Toolbar Configuration: in [Collection Browser Widget](https://help.hybris.com/6.7.0/hcd/8b80155586691014b8a180a42610cdbc.html)\n",
    "- [Creating an Action](https://help.hybris.com/6.7.0/hcd/8bd494db866910149bf29f9ae6ff6823.html#loio8bd494db866910149bf29f9ae6ff6823)\n",
    "    - read also [Creation and Use of UI Configuration Merging Mechanism](https://help.hybris.com/6.7.0/hcd/8bd51bcd8669101486cec32d579bb2c2.html#loio8bd51bcd8669101486cec32d579bb2c2)\n",
    "    \n",
    "# localizing action's button popup parameter\n",
    "- [Localizing UI of the Backoffice Application](https://help.hybris.com/6.7.0/hcd/8c06859f8669101492e5c1d7d5724e8e.html)\n",
    "- [Using Actions in Widgets](https://help.hybris.com/6.7.0/hcd/8c79ce7486691014a355f3b39c5491a3.html#loio9e15bcc82d08477393974c38ba4a44ec)\n",
    "# Excel export import in backoffice\n",
    "- [Excel Export and Import in Backoffice Framework](https://help.hybris.com/6.7.0/hcd/2947ba854b494b14892ce56fa2a75ce2.html)"
   ]
  },
  {
   "cell_type": "markdown",
   "metadata": {},
   "source": [
    "# creating impex for users\n",
    "- [](https://help.hybris.com/6.7.0/hcd/8c0dc93f866910149803aa4fa6b8ac71.html)"
   ]
  },
  {
   "cell_type": "markdown",
   "metadata": {},
   "source": [
    "# Groovy Scripts\n",
    "\n",
    "spring.beanDefinitionNames.each {\n",
    "    println it\n",
    "}\n",
    "return \"Groovy Rocks!\"\n",
    "\n",
    "import de.hybris.platform.core.Registry\n",
    "import de.hybris.platform.servicelayer.time.TimeService\n",
    "\n",
    "def bean = Registry.getApplicationContext().getBean(TimeService.class)\n",
    "bean.getCurrentTime();"
   ]
  },
  {
   "cell_type": "markdown",
   "metadata": {},
   "source": [
    "# search\n",
    "- two words search is not good at hybris help\n",
    "- better to search for exact word, ideally a classname"
   ]
  },
  {
   "cell_type": "markdown",
   "metadata": {},
   "source": [
    "# US Photographer\n",
    "# download zip with medias\n",
    "- upload to zip ??\n",
    "    - https://docs.oracle.com/javase/tutorial/essential/io/file.html\n",
    "    - zipstream zipentry\n",
    "    - [https://stackoverflow.com/questions/1091788/how-to-create-a-zip-file-in-java](https://stackoverflow.com/questions/1091788/how-to-create-a-zip-file-in-java)\n",
    "    - https://stackoverflow.com/questions/7083698/create-a-file-object-in-memory-from-a-string-in-java\n",
    "    - [FileDownload](https://www.javatips.net/api/org.zkoss.zul.filedownload)\n",
    "    - de/hybris/platform/cockpit/components/listview/impl/ExportCsvAction.class\n",
    "- [Using Local Media Storage Strategy](https://help.hybris.com/6.7.0/hcd/8c7b23de86691014950fc1ac1cf9dfdf.html)\n",
    "\n",
    "# process photos\n",
    "- Container\n",
    "    - [Handle Medias Using the MediaContainer](https://help.hybris.com/6.7.0/hcd/8bc90138866910148c36aa187a56f762.html)\n",
    "- Обработка фото ручная\\авто\n",
    "    - [mediaconversion Extension](https://help.hybris.com/6.7.0/hcd/8c0fe559866910149d53fdd269604a83.html)\n",
    "    - AZ_method DefaultProductMediaService   updateMediaForProduct\n",
    "        - Product\n",
    "        MediaContainer\n",
    "        Media\n",
    "        MediaFormat\n",
    "        ConversionGroup\n",
    "        ConversionMediaFormat\n",
    "- [ServiceLayer Architecture](https://help.hybris.com/6.7.0/hcd/8c59b23586691014a903dc21e06413c4.html)\n",
    "    - https://en.wikipedia.org/wiki/Service_(systems_architecture)\n",
    "    - [Configurable Products](https://help.hybris.com/6.7.0/hcd/Chunk517039045.html#loio41724d1449da4dc79456c7d336b19739)\n",
    "- Cron [The cronjob Service](https://help.hybris.com/6.7.0/hcd/8b9ce4868669101499b2f0f25ef9395f.html)\n",
    "- Task\n",
    "    - [The Task Service](https://help.hybris.com/6.7.0/hcd/8c6d262b866910149bdadc86225a5657.html)\n",
    "- https://stackoverflow.com/questions/30273045/how-to-get-an-existing-mediacontainermodel-in-hybris?rq=1\n",
    "    - [google](https://www.google.ru/search?q=getMediaContainerForQualifier&oq=getMediaContainerForQualifier&aqs=chrome..69i57j69i60.133j0j7&sourceid=chrome&ie=UTF-8)\n",
    "- [Content type for http request](https://www.google.ru/search?q=content+type+for+http+request&oq=content+type+for+http+request&aqs=chrome..69i57j69i60.7231j0j4&sourceid=chrome&ie=UTF-8)\n",
    "- [Messagebox](https://www.zkoss.org/zksandbox/#l8)\n",
    "    "
   ]
  },
  {
   "cell_type": "markdown",
   "metadata": {},
   "source": [
    "# Get absolute path for media \n",
    "- https://stackoverflow.com/questions/49755981/get-absolute-media-path-programatically-in-hybris"
   ]
  },
  {
   "cell_type": "markdown",
   "metadata": {},
   "source": [
    "# PC8 Ручное создание товарных категорий \n",
    "- Видимость категории в фасетах http://www.gloria-jeans.ru/catalog/girls/dresses/\n",
    "\n",
    "# Constraints Validation in backoffice\n",
    "\n",
    "- [Validation Service in Backoffice Framework](https://help.hybris.com/6.7.0/hcd/cb8edb3b88c94968b5c8c38cdc039829.html)\n",
    "    - https://help.hybris.com/6.7.0/hcd/search.html?search=backoffice%20validator\n",
    "\n"
   ]
  },
  {
   "cell_type": "markdown",
   "metadata": {},
   "source": [
    "# Localization\n",
    "- [Localization](https://help.hybris.com/6.7.0/hcd/8c05dbbc86691014a3fb88b6238b64b6.html)\n",
    "\n",
    "- https://github.com/XAMLMarkupExtensions/WPFLocalizationExtension/issues/70\n",
    "- https://www.google.ru/search?q=.properties+enum+localization&oq=.properties+enum+localization&aqs=chrome..69i57.6191j0j7&sourceid=chrome&ie=UTF-8\n",
    "- \n",
    "- https://en.wikipedia.org/wiki/.properties\n",
    "- [zkoss Locale-Dependent Resources](https://www.zkoss.org/wiki/ZK%20Developer's%20Reference/Internationalization/Locale-Dependent%20Resources)\n",
    "\n",
    "# Localizing UI of the Backoffice Application\n",
    "- \n"
   ]
  },
  {
   "cell_type": "markdown",
   "metadata": {},
   "source": [
    "# what is context?\n",
    "- https://www.quora.com/What-is-a-context-in-Java\n",
    "- https://stackoverflow.com/questions/3918083/what-exactly-is-a-context-in-java\n",
    "    - [google: context in java programming](https://www.google.ru/search?num=100&newwindow=1&safe=off&ei=mABPW4PxDcT-6AT8jLCABQ&q=context+in+java+programming&oq=context+in+java+pro&gs_l=psy-ab.3.0.33i22i29i30k1l5.7826.11282.0.12546.14.13.0.1.1.0.231.1075.9j1j1.11.0....0...1c.1.64.psy-ab..2.12.1080...0j0i67k1j0i7i30k1j0i203k1j0i22i30k1j0i20i263k1j0i10k1.0.9qfmqCGuInI)"
   ]
  },
  {
   "cell_type": "markdown",
   "metadata": {},
   "source": [
    "# Backoffice hot deployment\n",
    "\n",
    "- [CockpitNG / Backoffice Hot Deployment](https://wiki.hybris.com/pages/viewpage.action?pageId=284726780)\n",
    "\n",
    "- для бэкофиса вот такие параметры нашел\n",
    "\n",
    "backoffice.cockpitng.hotDeployment.enabled=true\n",
    "backoffice.cockpitng.additionalResourceLoader.enabled=true\n",
    "backoffice.cockpitng.uifactory.cache.enabled=false\n",
    "backoffice.cockpitng.widgetclassloader.resourcecache.enabled=false\n",
    "backoffice.cockpitng.resourceloader.resourcecache.enabled=false\n",
    "\n",
    "для разработки"
   ]
  },
  {
   "cell_type": "markdown",
   "metadata": {},
   "source": [
    "# backoffice merge modes\n",
    "\n",
    "- <context merge-by=\"type\" "
   ]
  },
  {
   "cell_type": "markdown",
   "metadata": {},
   "source": [
    "# Backoffice list-view contoller\n",
    "- https://wiki.hybris.com/display/release5/List+View+Widget"
   ]
  },
  {
   "cell_type": "markdown",
   "metadata": {},
   "source": [
    "# ImpEx\n",
    "- #% impex.setDumpingAllowed( false );\n",
    "\n",
    "- https://hybrismart.com/2016/10/30/mastering-hybris-impex-recipes-and-secrets/\n",
    "- [google: hybris+impex+date+import+format](https://www.google.ru/search?num=100&newwindow=1&safe=off&ei=Wm1xW-D5GoPe6QTDlIPACg&q=hybris+impex+date+import+format&oq=hybris+impex+date+import+fo&gs_l=psy-ab.3.0.33i22i29i30k1.2391.3262.0.4278.3.3.0.0.0.0.247.370.0j1j1.2.0....0...1c.1.64.psy-ab..1.2.369....0.gj7YEYMvzkY)\n",
    "- https://wiki.hybris.com/pages/viewpage.action?spaceKey=release5&title=ImpEx+Syntax\n",
    "    -  to implement a ISO 8601-compliant combined date and time representation. The DateFormat class requires a syntax such as yyyy-MM-dd'T'HH:mm:ss.SSSZ. The T in the date format representation must be delimited by single quotes by convention. For use with ImpEx, the single quotes have to be escaped by doubling. \n",
    "\n",
    "# Flexible Search Order By\n",
    "\n",
    "- https://hybrismart.com/2016/11/06/what-you-dont-know-about-flexiblesearch/\n",
    "\n",
    "\n",
    "# Two ImpEx in one Job\n",
    "- ModelService\n"
   ]
  }
 ],
 "metadata": {
  "kernelspec": {
   "display_name": "Python 3",
   "language": "python",
   "name": "python3"
  },
  "language_info": {
   "codemirror_mode": {
    "name": "ipython",
    "version": 3
   },
   "file_extension": ".py",
   "mimetype": "text/x-python",
   "name": "python",
   "nbconvert_exporter": "python",
   "pygments_lexer": "ipython3",
   "version": "3.6.4"
  }
 },
 "nbformat": 4,
 "nbformat_minor": 2
}
