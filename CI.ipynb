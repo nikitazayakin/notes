{
 "cells": [
  {
   "cell_type": "markdown",
   "metadata": {},
   "source": [
    "# dfdfasdasfdas\n",
    "- [Для чего программисту Continuous Integration и с чего начинать](https://habr.com/post/353194/%3A%2F%2Fzen.yandex.com)"
   ]
  },
  {
   "cell_type": "markdown",
   "metadata": {},
   "source": [
    "# docker\n",
    "\n",
    "- tutorial https://docs.docker.com/docker-for-mac/\n",
    "    Start dockerised webserver \n",
    "        docker run -d -p 80:80 --name webserver nginx\n",
    "        \n",
    "- play with docker https://labs.play-with-docker.com/?stack=https://raw.githubusercontent.com/docker-library/docs/9efeec18b6b2ed232cf0fbd3914b6211e16e242c/elasticsearch/stack.yml"
   ]
  },
  {
   "cell_type": "markdown",
   "metadata": {},
   "source": [
    "- https://yandex.ru/search/?text=docker&clid=1955453&win=318&lr=213\n"
   ]
  }
 ],
 "metadata": {
  "kernelspec": {
   "display_name": "Python 3",
   "language": "python",
   "name": "python3"
  },
  "language_info": {
   "codemirror_mode": {
    "name": "ipython",
    "version": 3
   },
   "file_extension": ".py",
   "mimetype": "text/x-python",
   "name": "python",
   "nbconvert_exporter": "python",
   "pygments_lexer": "ipython3",
   "version": "3.6.4"
  }
 },
 "nbformat": 4,
 "nbformat_minor": 2
}
