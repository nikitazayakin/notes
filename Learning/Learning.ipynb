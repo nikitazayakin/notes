{
 "cells": [
  {
   "cell_type": "markdown",
   "metadata": {},
   "source": [
    "- [Эффективное самообучение в IT-сфере. Что мы делаем не так?](https://proglib.io/p/self-education/)\n",
    "    - Подход состоит из подготовки, разведки, практики, погружения и повторения\n",
    "        - Подготовка: короткий этап, но он является основой для всех последующих. выбираете материалы для изучения. Позаботьтесь о том, чтобы это были качественные и актуальные источники информации, читайте отзывы, рекомендации экспертов, или же положитесь на личный опыт.\n",
    "        - Разведка: Не тратим слишком много времени. Ознакомьтесь с материалом. Сделайте заметки. Запишите вопросы\n",
    "        - "
   ]
  }
 ],
 "metadata": {
  "kernelspec": {
   "display_name": "Python 3",
   "language": "python",
   "name": "python3"
  },
  "language_info": {
   "codemirror_mode": {
    "name": "ipython",
    "version": 3
   },
   "file_extension": ".py",
   "mimetype": "text/x-python",
   "name": "python",
   "nbconvert_exporter": "python",
   "pygments_lexer": "ipython3",
   "version": "3.6.4"
  }
 },
 "nbformat": 4,
 "nbformat_minor": 2
}
