{
 "cells": [
  {
   "cell_type": "markdown",
   "metadata": {},
   "source": [
    "# multithreading\n",
    "- http://info.javarush.ru/JavaRush_lectures_discussion/2013/07/29/lecture-16.html\n",
    "- \n",
    "- 6 \n",
    "\n",
    "- 6 уровень, 2 лекция [Создание и запуск новых потоков](\n",
    "    1) Создать объект класса Thread (нить)\n",
    "    2) Передать в него метод, который нужно выполнить\n",
    "    3) Вызвать у созданного объекта Thread метод start.\n",
    "    Главная нить (main thread)\n",
    "    Дочерняя нить\n",
    "    \n",
    "        class Printer implements Runnable {\n",
    "            \n",
    "\n",
    "            public void run() {\n",
    "                sout(\"hello\")\n",
    "              }\n",
    "            }\n",
    "        }\n",
    "    "
   ]
  },
  {
   "cell_type": "markdown",
   "metadata": {},
   "source": []
  }
 ],
 "metadata": {
  "kernelspec": {
   "display_name": "Python 3",
   "language": "python",
   "name": "python3"
  },
  "language_info": {
   "codemirror_mode": {
    "name": "ipython",
    "version": 3
   },
   "file_extension": ".py",
   "mimetype": "text/x-python",
   "name": "python",
   "nbconvert_exporter": "python",
   "pygments_lexer": "ipython3",
   "version": "3.6.5"
  }
 },
 "nbformat": 4,
 "nbformat_minor": 2
}
