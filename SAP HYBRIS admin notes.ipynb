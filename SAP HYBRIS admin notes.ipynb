{
 "cells": [
  {
   "cell_type": "markdown",
   "metadata": {},
   "source": [
    "# Sync Catalogs\n",
    "\n",
    "- [sync content catalog](https://help.hybris.com/6.7.0/hcd/2b7f29fb6e784d8d86836b21c7246916.html)\n",
    "- [sync product catalog]\n",
    "    - from backoffice, top panel, forth choice, then select 2nd choice at left tab, then select gj pr cat and then select online version, and then select "
   ]
  },
  {
   "cell_type": "markdown",
   "metadata": {},
   "source": [
    "# B2Cacc_dockerised\n",
    "- ~/hybris67temp4/hybris/installer$ ./install.sh -l // shows dockerisation instructions\n"
   ]
  },
  {
   "cell_type": "markdown",
   "metadata": {},
   "source": [
    "# multiple ssh keys\n",
    "- https://confluence.atlassian.com/bitbucketserver/creating-ssh-keys-776639788.html\n",
    "- http://tldp.org/LDP/abs/html/comparison-ops.html\n",
    "- https://stackoverflow.com/questions/2419566/best-way-to-use-multiple-ssh-private-keys-on-one-client"
   ]
  }
 ],
 "metadata": {
  "kernelspec": {
   "display_name": "Python 3",
   "language": "python",
   "name": "python3"
  },
  "language_info": {
   "codemirror_mode": {
    "name": "ipython",
    "version": 3
   },
   "file_extension": ".py",
   "mimetype": "text/x-python",
   "name": "python",
   "nbconvert_exporter": "python",
   "pygments_lexer": "ipython3",
   "version": "3.6.4"
  }
 },
 "nbformat": 4,
 "nbformat_minor": 2
}
