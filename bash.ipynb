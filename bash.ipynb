{
 "cells": [
  {
   "cell_type": "markdown",
   "metadata": {},
   "source": []
  },
  {
   "cell_type": "markdown",
   "metadata": {},
   "source": [
    "# Interesting\n",
    "\n",
    "[Bash weather](http://www.google.ru/search?q=bash+weather&oq=bash+weather&aqs=chrome..69i57.6943j0j7&sourceid=chrome&ie=UTF-8)"
   ]
  },
  {
   "cell_type": "markdown",
   "metadata": {},
   "source": [
    "# source\n",
    "- [Bash script - How to reference a file for variables](https://stackoverflow.com/questions/5228345/bash-script-how-to-reference-a-file-for-variables)\n"
   ]
  },
  {
   "cell_type": "markdown",
   "metadata": {},
   "source": [
    "# scritp parameters\n",
    "\n",
    "- [script flags](https://www.google.ru/search?num=100&newwindow=1&safe=off&ei=rELGWuaRCOf06ASg0JbIAg&q=linux+script+bash+parameters+using+flags&oq=linux+script+bash+parameters+using+flags&gs_l=psy-ab.3..33i160k1.39303.46756.0.47124.25.25.0.0.0.0.139.1721.24j1.25.0....0...1c.1.64.psy-ab..0.24.1645...0i7i30k1j0i13k1j0i8i7i30k1j35i39k1j0i30k1j0i8i30k1j0i22i30k1j33i22i29i30k1j33i21k1.0.1Yw4naSu7Nc)\n",
    "    - https://stackoverflow.com/questions/7069682/how-to-get-arguments-with-flags-in-bash-script\n",
    "- [script parameters](https://www.google.ru/search?q=linux+bash+parameters&oq=linux+bash+parameters&aqs=chrome..69i57.10623j0j7&sourceid=chrome&ie=UTF-8)\n",
    "    - https://www.lifewire.com/pass-arguments-to-bash-script-2200571"
   ]
  },
  {
   "cell_type": "markdown",
   "metadata": {},
   "source": [
    "# ssh remote command\n",
    "- ssh run remote commands https://www.garron.me/en/go2linux/ssh-sudo-run-commands-remote-server.html\n",
    "    - [goog](https://www.google.ru/search?q=linux+save+history+at+the+end+of+terminal&oq=linux+save+history+at+the+end+of+terminal&aqs=chrome..69i57.6770j0j7&sourceid=chrome&ie=UTF-8)\n",
    "- how single and double quotes vary in ssh command https://serverfault.com/questions/368327/difference-between-single-quotes-and-double-quotes-when-passing-command-through\n",
    "    - [goog](https://www.google.ru/search?q=ssh+remote+command+single+double+quote&oq=ssh+remote+command+single+double+quote&aqs=chrome..69i57.11423j0j7&sourceid=chrome&ie=UTF-8)"
   ]
  },
  {
   "cell_type": "markdown",
   "metadata": {},
   "source": [
    "# find\n",
    "- [Find command: how to ignore case?](https://unix.stackexchange.com/questions/32155/find-command-how-to-ignore-case)\n",
    "    - [googl](https://www.google.ru/search?q=bash+find+case+insensitive&oq=bash+find+case+insensitive&aqs=chrome..69i57.12098j0j7&sourceid=chrome&ie=UTF-8)\n",
    "    "
   ]
  },
  {
   "cell_type": "markdown",
   "metadata": {},
   "source": [
    "\n",
    "- [how to run script as another user without password](https://stackoverflow.com/questions/6905697/how-to-run-script-as-another-user-without-password)\n",
    "\n",
    "Call visudo and add this:\n",
    "\n",
    "user1 ALL=(user2) NOPASSWD: /home/user2/bin/test.sh\n",
    "The command paths must be absolute! Then call sudo -u user2 /home/user2/bin/test.sh from a user1 shell. Done.\n",
    "\n",
    "- [Tar a directory, but don't store full absolute paths in the archive\n",
    "](https://stackoverflow.com/questions/18681595/tar-a-directory-but-dont-store-full-absolute-paths-in-the-archive)\n",
    "tar -cjf site1.tar.bz2 -C /var/www/site1 .\n",
    "In the above example, tar will change to directory /var/www/site1 before doing its thing because the option -C /var/www/site1 was given.\n",
    "\n",
    "From man tar:\n",
    "\n",
    "OTHER OPTIONS\n",
    "\n",
    "  -C, --directory DIR\n",
    "       change to directory DIR\n",
    "\n",
    "- [redirect error to null](https://www.google.ru/search?q=linux+bash+redirect+error+to+null&oq=linux+bash+redirect+error+to+null&aqs=chrome..69i57.7319j0j7&sourceid=chrome&ie=UTF-8)"
   ]
  },
  {
   "cell_type": "markdown",
   "metadata": {},
   "source": []
  }
 ],
 "metadata": {
  "kernelspec": {
   "display_name": "Python 3",
   "language": "python",
   "name": "python3"
  },
  "language_info": {
   "codemirror_mode": {
    "name": "ipython",
    "version": 3
   },
   "file_extension": ".py",
   "mimetype": "text/x-python",
   "name": "python",
   "nbconvert_exporter": "python",
   "pygments_lexer": "ipython3",
   "version": "3.6.4"
  }
 },
 "nbformat": 4,
 "nbformat_minor": 2
}
