{
 "cells": [
  {
   "cell_type": "markdown",
   "metadata": {},
   "source": [
    "# Сбор данных: какой терминал лучше\n",
    "- [guake vs native terminal](https://www.google.ru/search?q=guake+vs+native+terminal&oq=guake+vs+native+terminal&aqs=chrome..69i57.5199j0j7&sourceid=chrome&ie=UTF-8)\n"
   ]
  },
  {
   "cell_type": "markdown",
   "metadata": {},
   "source": [
    "# Guake\n",
    "- [google shortcuts](https://www.google.ru/search?q=guake+shortcuts&oq=guake+shortcuts&aqs=chrome..69i57j69i65.6067j0j7&sourceid=chrome&ie=UTF-8)\n",
    "    - [guake-terminal-for-super-productivity](https://dalibornasevic.com/posts/48-guake-terminal-for-super-productivity)\n",
    "    - shift ctrl t\n",
    "    - shift ctrl w\n",
    "    - ctrl pg up/down\n",
    "    - ctrl F1-F10\n",
    "- []()\n"
   ]
  }
 ],
 "metadata": {
  "kernelspec": {
   "display_name": "Python 3",
   "language": "python",
   "name": "python3"
  },
  "language_info": {
   "codemirror_mode": {
    "name": "ipython",
    "version": 3
   },
   "file_extension": ".py",
   "mimetype": "text/x-python",
   "name": "python",
   "nbconvert_exporter": "python",
   "pygments_lexer": "ipython3",
   "version": "3.6.4"
  }
 },
 "nbformat": 4,
 "nbformat_minor": 2
}
