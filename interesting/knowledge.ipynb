{
 "cells": [
  {
   "cell_type": "markdown",
   "metadata": {},
   "source": [
    "- Структура процесса получения и усвоения и применения знаний\n",
    "- вначале нужно обоснование - зачем нужны знания, нужно конкретизировать этот момент, желательно максимально"
   ]
  },
  {
   "cell_type": "markdown",
   "metadata": {},
   "source": [
    "# вопросы\n",
    "- что такое reflection\n",
    "- "
   ]
  }
 ],
 "metadata": {
  "kernelspec": {
   "display_name": "Python 3",
   "language": "python",
   "name": "python3"
  },
  "language_info": {
   "codemirror_mode": {
    "name": "ipython",
    "version": 3
   },
   "file_extension": ".py",
   "mimetype": "text/x-python",
   "name": "python",
   "nbconvert_exporter": "python",
   "pygments_lexer": "ipython3",
   "version": "3.6.4"
  }
 },
 "nbformat": 4,
 "nbformat_minor": 2
}
