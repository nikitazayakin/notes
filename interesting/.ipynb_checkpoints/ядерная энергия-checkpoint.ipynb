{
 "cells": [
  {
   "cell_type": "markdown",
   "metadata": {},
   "source": [
    "# Что такое ядерный взрыв?\n",
    "\n",
    "- атомная бомба и энергия\n",
    "- термоядерная бомба и энергия\n",
    "\n",
    "- как взлетает и падает МБР (Межконтинентальная баллистическая ракета)\n",
    "\n"
   ]
  },
  {
   "cell_type": "markdown",
   "metadata": {},
   "source": [
    "# Сбор данных\n",
    "\n",
    "- [Межконтинентальная баллистическая ракета](https://masterok.livejournal.com/2905450.html)\n",
    "    - ракетный блок летит на низкоорбитальной спутниковой орбите чуть медленнее спутников и затем по еллиптическая орбита падает вниз\n",
    "- "
   ]
  }
 ],
 "metadata": {
  "kernelspec": {
   "display_name": "Python 3",
   "language": "python",
   "name": "python3"
  },
  "language_info": {
   "codemirror_mode": {
    "name": "ipython",
    "version": 3
   },
   "file_extension": ".py",
   "mimetype": "text/x-python",
   "name": "python",
   "nbconvert_exporter": "python",
   "pygments_lexer": "ipython3",
   "version": "3.6.4"
  }
 },
 "nbformat": 4,
 "nbformat_minor": 2
}
