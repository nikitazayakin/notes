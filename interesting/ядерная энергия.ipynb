{
 "cells": [
  {
   "cell_type": "markdown",
   "metadata": {},
   "source": [
    "# Что такое ядерный взрыв?\n",
    "\n",
    "- атомная бомба и энергия\n",
    "- термоядерная бомба и энергия\n",
    "\n",
    "- как взлетает и падает МБР (Межконтинентальная баллистическая ракета)\n",
    "\n"
   ]
  },
  {
   "cell_type": "markdown",
   "metadata": {},
   "source": [
    "# Сбор данных\n",
    "\n",
    "- [Межконтинентальная баллистическая ракета](https://masterok.livejournal.com/2905450.html)\n",
    "    - ракетный блок летит на низкоорбитальной спутниковой орбите чуть медленнее спутников и затем по еллиптическая орбита падает вниз\n",
    "- [картинки](https://www.google.ru/search?q=%D0%B1%D0%B0%D0%BB%D0%BB%D0%B8%D1%81%D1%82%D0%B8%D1%87%D0%B5%D1%81%D0%BA%D0%B0%D1%8F+%D1%82%D1%80%D0%B0%D0%B5%D0%BA%D1%82%D0%BE%D1%80%D0%B8%D1%8F+%D0%BC%D0%B5%D0%B6%D0%BA%D0%BE%D0%BD%D1%82%D0%B8%D0%BD%D0%B5%D0%BD%D1%82%D0%B0%D0%BB%D1%8C%D0%BD%D1%8B%D1%85+%D1%80%D0%B0%D0%BA%D0%B5%D1%82&num=100&newwindow=1&safe=off&tbm=isch&source=iu&ictx=1&fir=GTqv6YSAq9qYiM%253A%252CgjR22Ip_mE_n3M%252C_&usg=__z01sK1iggnZiz_Ur5GSE9WMnVSQ%3D&sa=X&ved=0ahUKEwjG7_-_j7TaAhXmHJoKHbNsCHoQ9QEIhAIwEw#imgrc=GTqv6YSAq9qYiM:)"
   ]
  }
 ],
 "metadata": {
  "kernelspec": {
   "display_name": "Python 3",
   "language": "python",
   "name": "python3"
  },
  "language_info": {
   "codemirror_mode": {
    "name": "ipython",
    "version": 3
   },
   "file_extension": ".py",
   "mimetype": "text/x-python",
   "name": "python",
   "nbconvert_exporter": "python",
   "pygments_lexer": "ipython3",
   "version": "3.6.4"
  }
 },
 "nbformat": 4,
 "nbformat_minor": 2
}
